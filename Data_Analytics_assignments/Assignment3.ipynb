{
 "cells": [
  {
   "cell_type": "code",
   "execution_count": 2,
   "id": "bc55d9ca-0fcd-44dc-92a9-d8722230467b",
   "metadata": {},
   "outputs": [],
   "source": [
    "import pandas as pd\n",
    "import numpy as np\n",
    "import matplotlib.pyplot as plt"
   ]
  },
  {
   "cell_type": "code",
   "execution_count": 3,
   "id": "2cb15166-35d7-4b55-9ee8-ed08b6a441aa",
   "metadata": {},
   "outputs": [
    {
     "data": {
      "text/html": [
       "<div>\n",
       "<style scoped>\n",
       "    .dataframe tbody tr th:only-of-type {\n",
       "        vertical-align: middle;\n",
       "    }\n",
       "\n",
       "    .dataframe tbody tr th {\n",
       "        vertical-align: top;\n",
       "    }\n",
       "\n",
       "    .dataframe thead th {\n",
       "        text-align: right;\n",
       "    }\n",
       "</style>\n",
       "<table border=\"1\" class=\"dataframe\">\n",
       "  <thead>\n",
       "    <tr style=\"text-align: right;\">\n",
       "      <th></th>\n",
       "      <th>Unnamed: 0</th>\n",
       "      <th>drugName</th>\n",
       "      <th>condition</th>\n",
       "      <th>review</th>\n",
       "      <th>rating</th>\n",
       "      <th>date</th>\n",
       "      <th>usefulCount</th>\n",
       "      <th>drug_class</th>\n",
       "      <th>sentiment</th>\n",
       "      <th>sentiment_label</th>\n",
       "    </tr>\n",
       "  </thead>\n",
       "  <tbody>\n",
       "    <tr>\n",
       "      <th>0</th>\n",
       "      <td>206461</td>\n",
       "      <td>Valsartan</td>\n",
       "      <td>Left Ventricular Dysfunction</td>\n",
       "      <td>\"It has no side effect, I take it in combinati...</td>\n",
       "      <td>9.0</td>\n",
       "      <td>May 20, 2012</td>\n",
       "      <td>27</td>\n",
       "      <td>arb blocker</td>\n",
       "      <td>0.000000</td>\n",
       "      <td>neutral</td>\n",
       "    </tr>\n",
       "    <tr>\n",
       "      <th>1</th>\n",
       "      <td>95260</td>\n",
       "      <td>Guanfacine</td>\n",
       "      <td>ADHD</td>\n",
       "      <td>\"My son is halfway through his fourth week of ...</td>\n",
       "      <td>8.0</td>\n",
       "      <td>April 27, 2010</td>\n",
       "      <td>192</td>\n",
       "      <td>NaN</td>\n",
       "      <td>0.168333</td>\n",
       "      <td>positive</td>\n",
       "    </tr>\n",
       "    <tr>\n",
       "      <th>2</th>\n",
       "      <td>92703</td>\n",
       "      <td>Lybrel</td>\n",
       "      <td>Birth Control</td>\n",
       "      <td>\"I used to take another oral contraceptive, wh...</td>\n",
       "      <td>5.0</td>\n",
       "      <td>December 14, 2009</td>\n",
       "      <td>17</td>\n",
       "      <td>NaN</td>\n",
       "      <td>0.067210</td>\n",
       "      <td>positive</td>\n",
       "    </tr>\n",
       "    <tr>\n",
       "      <th>3</th>\n",
       "      <td>138000</td>\n",
       "      <td>Ortho Evra</td>\n",
       "      <td>Birth Control</td>\n",
       "      <td>\"This is my first time using any form of birth...</td>\n",
       "      <td>8.0</td>\n",
       "      <td>November 3, 2015</td>\n",
       "      <td>10</td>\n",
       "      <td>NaN</td>\n",
       "      <td>0.179545</td>\n",
       "      <td>positive</td>\n",
       "    </tr>\n",
       "    <tr>\n",
       "      <th>4</th>\n",
       "      <td>35696</td>\n",
       "      <td>Buprenorphine / naloxone</td>\n",
       "      <td>Opiate Dependence</td>\n",
       "      <td>\"Suboxone has completely turned my life around...</td>\n",
       "      <td>9.0</td>\n",
       "      <td>November 27, 2016</td>\n",
       "      <td>37</td>\n",
       "      <td>NaN</td>\n",
       "      <td>0.194444</td>\n",
       "      <td>positive</td>\n",
       "    </tr>\n",
       "  </tbody>\n",
       "</table>\n",
       "</div>"
      ],
      "text/plain": [
       "   Unnamed: 0                  drugName                     condition  \\\n",
       "0      206461                 Valsartan  Left Ventricular Dysfunction   \n",
       "1       95260                Guanfacine                          ADHD   \n",
       "2       92703                    Lybrel                 Birth Control   \n",
       "3      138000                Ortho Evra                 Birth Control   \n",
       "4       35696  Buprenorphine / naloxone             Opiate Dependence   \n",
       "\n",
       "                                              review  rating  \\\n",
       "0  \"It has no side effect, I take it in combinati...     9.0   \n",
       "1  \"My son is halfway through his fourth week of ...     8.0   \n",
       "2  \"I used to take another oral contraceptive, wh...     5.0   \n",
       "3  \"This is my first time using any form of birth...     8.0   \n",
       "4  \"Suboxone has completely turned my life around...     9.0   \n",
       "\n",
       "                date  usefulCount   drug_class  sentiment sentiment_label  \n",
       "0       May 20, 2012           27  arb blocker   0.000000         neutral  \n",
       "1     April 27, 2010          192          NaN   0.168333        positive  \n",
       "2  December 14, 2009           17          NaN   0.067210        positive  \n",
       "3   November 3, 2015           10          NaN   0.179545        positive  \n",
       "4  November 27, 2016           37          NaN   0.194444        positive  "
      ]
     },
     "execution_count": 3,
     "metadata": {},
     "output_type": "execute_result"
    }
   ],
   "source": [
    "df = pd.read_csv(\"C:\\\\Datasets\\\\drug_review_dataset_with_sentiment.csv\")\n",
    "df.head()"
   ]
  },
  {
   "cell_type": "code",
   "execution_count": 5,
   "id": "ad4cb049-64dc-4215-92c0-45712f6d11ac",
   "metadata": {},
   "outputs": [
    {
     "data": {
      "text/html": [
       "<div>\n",
       "<style scoped>\n",
       "    .dataframe tbody tr th:only-of-type {\n",
       "        vertical-align: middle;\n",
       "    }\n",
       "\n",
       "    .dataframe tbody tr th {\n",
       "        vertical-align: top;\n",
       "    }\n",
       "\n",
       "    .dataframe thead th {\n",
       "        text-align: right;\n",
       "    }\n",
       "</style>\n",
       "<table border=\"1\" class=\"dataframe\">\n",
       "  <thead>\n",
       "    <tr style=\"text-align: right;\">\n",
       "      <th></th>\n",
       "      <th>Unnamed: 0</th>\n",
       "      <th>drugName</th>\n",
       "      <th>condition</th>\n",
       "      <th>review</th>\n",
       "      <th>rating</th>\n",
       "      <th>date</th>\n",
       "      <th>usefulCount</th>\n",
       "      <th>drug_class</th>\n",
       "      <th>sentiment</th>\n",
       "      <th>sentiment_label</th>\n",
       "    </tr>\n",
       "  </thead>\n",
       "  <tbody>\n",
       "    <tr>\n",
       "      <th>161292</th>\n",
       "      <td>191035</td>\n",
       "      <td>Campral</td>\n",
       "      <td>Alcohol Dependence</td>\n",
       "      <td>\"I wrote my first report in Mid-October of 201...</td>\n",
       "      <td>10.0</td>\n",
       "      <td>May 31, 2015</td>\n",
       "      <td>125</td>\n",
       "      <td>NaN</td>\n",
       "      <td>0.262917</td>\n",
       "      <td>positive</td>\n",
       "    </tr>\n",
       "    <tr>\n",
       "      <th>161293</th>\n",
       "      <td>127085</td>\n",
       "      <td>Metoclopramide</td>\n",
       "      <td>Nausea/Vomiting</td>\n",
       "      <td>\"I was given this in IV before surgey. I immed...</td>\n",
       "      <td>1.0</td>\n",
       "      <td>November 1, 2011</td>\n",
       "      <td>34</td>\n",
       "      <td>oral hypoglycemics</td>\n",
       "      <td>-0.276389</td>\n",
       "      <td>negative</td>\n",
       "    </tr>\n",
       "    <tr>\n",
       "      <th>161294</th>\n",
       "      <td>187382</td>\n",
       "      <td>Orencia</td>\n",
       "      <td>Rheumatoid Arthritis</td>\n",
       "      <td>\"Limited improvement after 4 months, developed...</td>\n",
       "      <td>2.0</td>\n",
       "      <td>March 15, 2014</td>\n",
       "      <td>35</td>\n",
       "      <td>NaN</td>\n",
       "      <td>-0.223810</td>\n",
       "      <td>negative</td>\n",
       "    </tr>\n",
       "    <tr>\n",
       "      <th>161295</th>\n",
       "      <td>47128</td>\n",
       "      <td>Thyroid desiccated</td>\n",
       "      <td>Underactive Thyroid</td>\n",
       "      <td>\"I&amp;#039;ve been on thyroid medication 49 years...</td>\n",
       "      <td>10.0</td>\n",
       "      <td>September 19, 2015</td>\n",
       "      <td>79</td>\n",
       "      <td>NaN</td>\n",
       "      <td>0.212597</td>\n",
       "      <td>positive</td>\n",
       "    </tr>\n",
       "    <tr>\n",
       "      <th>161296</th>\n",
       "      <td>215220</td>\n",
       "      <td>Lubiprostone</td>\n",
       "      <td>Constipation, Chronic</td>\n",
       "      <td>\"I&amp;#039;ve had chronic constipation all my adu...</td>\n",
       "      <td>9.0</td>\n",
       "      <td>December 13, 2014</td>\n",
       "      <td>116</td>\n",
       "      <td>NaN</td>\n",
       "      <td>0.085417</td>\n",
       "      <td>positive</td>\n",
       "    </tr>\n",
       "  </tbody>\n",
       "</table>\n",
       "</div>"
      ],
      "text/plain": [
       "        Unnamed: 0            drugName              condition  \\\n",
       "161292      191035             Campral     Alcohol Dependence   \n",
       "161293      127085      Metoclopramide        Nausea/Vomiting   \n",
       "161294      187382             Orencia   Rheumatoid Arthritis   \n",
       "161295       47128  Thyroid desiccated    Underactive Thyroid   \n",
       "161296      215220        Lubiprostone  Constipation, Chronic   \n",
       "\n",
       "                                                   review  rating  \\\n",
       "161292  \"I wrote my first report in Mid-October of 201...    10.0   \n",
       "161293  \"I was given this in IV before surgey. I immed...     1.0   \n",
       "161294  \"Limited improvement after 4 months, developed...     2.0   \n",
       "161295  \"I&#039;ve been on thyroid medication 49 years...    10.0   \n",
       "161296  \"I&#039;ve had chronic constipation all my adu...     9.0   \n",
       "\n",
       "                      date  usefulCount          drug_class  sentiment  \\\n",
       "161292        May 31, 2015          125                 NaN   0.262917   \n",
       "161293    November 1, 2011           34  oral hypoglycemics  -0.276389   \n",
       "161294      March 15, 2014           35                 NaN  -0.223810   \n",
       "161295  September 19, 2015           79                 NaN   0.212597   \n",
       "161296   December 13, 2014          116                 NaN   0.085417   \n",
       "\n",
       "       sentiment_label  \n",
       "161292        positive  \n",
       "161293        negative  \n",
       "161294        negative  \n",
       "161295        positive  \n",
       "161296        positive  "
      ]
     },
     "execution_count": 5,
     "metadata": {},
     "output_type": "execute_result"
    }
   ],
   "source": [
    "df.tail()"
   ]
  },
  {
   "cell_type": "code",
   "execution_count": 6,
   "id": "45709d82-4a82-4912-9c76-a927ba308a9e",
   "metadata": {},
   "outputs": [
    {
     "name": "stdout",
     "output_type": "stream",
     "text": [
      "Unnamed: 0 -> 161297 \n",
      "drugName -> 3436 \n",
      "condition -> 884 \n",
      "review -> 112329 \n",
      "rating -> 10 \n",
      "date -> 3579 \n",
      "usefulCount -> 389 \n",
      "drug_class -> 22 \n",
      "sentiment -> 37352 \n",
      "sentiment_label -> 3 \n"
     ]
    }
   ],
   "source": [
    "for i in df.columns:\n",
    "    print(f\"{i} -> {df[i].value_counts().count()} \")"
   ]
  },
  {
   "cell_type": "code",
   "execution_count": 7,
   "id": "e80cb1b3-017e-4b35-808b-e07bdc65a161",
   "metadata": {},
   "outputs": [
    {
     "data": {
      "text/html": [
       "<div>\n",
       "<style scoped>\n",
       "    .dataframe tbody tr th:only-of-type {\n",
       "        vertical-align: middle;\n",
       "    }\n",
       "\n",
       "    .dataframe tbody tr th {\n",
       "        vertical-align: top;\n",
       "    }\n",
       "\n",
       "    .dataframe thead th {\n",
       "        text-align: right;\n",
       "    }\n",
       "</style>\n",
       "<table border=\"1\" class=\"dataframe\">\n",
       "  <thead>\n",
       "    <tr style=\"text-align: right;\">\n",
       "      <th></th>\n",
       "      <th>Unnamed: 0</th>\n",
       "      <th>drugName</th>\n",
       "      <th>condition</th>\n",
       "      <th>review</th>\n",
       "      <th>rating</th>\n",
       "      <th>date</th>\n",
       "      <th>usefulCount</th>\n",
       "      <th>drug_class</th>\n",
       "      <th>sentiment</th>\n",
       "      <th>sentiment_label</th>\n",
       "    </tr>\n",
       "  </thead>\n",
       "  <tbody>\n",
       "    <tr>\n",
       "      <th>count</th>\n",
       "      <td>161297.000000</td>\n",
       "      <td>161297</td>\n",
       "      <td>160398</td>\n",
       "      <td>161297</td>\n",
       "      <td>161297.000000</td>\n",
       "      <td>161297</td>\n",
       "      <td>161297.000000</td>\n",
       "      <td>23460</td>\n",
       "      <td>161297.000000</td>\n",
       "      <td>161297</td>\n",
       "    </tr>\n",
       "    <tr>\n",
       "      <th>unique</th>\n",
       "      <td>NaN</td>\n",
       "      <td>3436</td>\n",
       "      <td>884</td>\n",
       "      <td>112329</td>\n",
       "      <td>NaN</td>\n",
       "      <td>3579</td>\n",
       "      <td>NaN</td>\n",
       "      <td>22</td>\n",
       "      <td>NaN</td>\n",
       "      <td>3</td>\n",
       "    </tr>\n",
       "    <tr>\n",
       "      <th>top</th>\n",
       "      <td>NaN</td>\n",
       "      <td>Levonorgestrel</td>\n",
       "      <td>Birth Control</td>\n",
       "      <td>\"Good\"</td>\n",
       "      <td>NaN</td>\n",
       "      <td>March 1, 2016</td>\n",
       "      <td>NaN</td>\n",
       "      <td>antifungal (except metronidazole)</td>\n",
       "      <td>NaN</td>\n",
       "      <td>positive</td>\n",
       "    </tr>\n",
       "    <tr>\n",
       "      <th>freq</th>\n",
       "      <td>NaN</td>\n",
       "      <td>3657</td>\n",
       "      <td>28788</td>\n",
       "      <td>33</td>\n",
       "      <td>NaN</td>\n",
       "      <td>146</td>\n",
       "      <td>NaN</td>\n",
       "      <td>4201</td>\n",
       "      <td>NaN</td>\n",
       "      <td>101041</td>\n",
       "    </tr>\n",
       "    <tr>\n",
       "      <th>mean</th>\n",
       "      <td>115923.585305</td>\n",
       "      <td>NaN</td>\n",
       "      <td>NaN</td>\n",
       "      <td>NaN</td>\n",
       "      <td>6.994377</td>\n",
       "      <td>NaN</td>\n",
       "      <td>28.004755</td>\n",
       "      <td>NaN</td>\n",
       "      <td>0.064847</td>\n",
       "      <td>NaN</td>\n",
       "    </tr>\n",
       "    <tr>\n",
       "      <th>std</th>\n",
       "      <td>67004.445170</td>\n",
       "      <td>NaN</td>\n",
       "      <td>NaN</td>\n",
       "      <td>NaN</td>\n",
       "      <td>3.272329</td>\n",
       "      <td>NaN</td>\n",
       "      <td>36.403742</td>\n",
       "      <td>NaN</td>\n",
       "      <td>0.222437</td>\n",
       "      <td>NaN</td>\n",
       "    </tr>\n",
       "    <tr>\n",
       "      <th>min</th>\n",
       "      <td>2.000000</td>\n",
       "      <td>NaN</td>\n",
       "      <td>NaN</td>\n",
       "      <td>NaN</td>\n",
       "      <td>1.000000</td>\n",
       "      <td>NaN</td>\n",
       "      <td>0.000000</td>\n",
       "      <td>NaN</td>\n",
       "      <td>-1.000000</td>\n",
       "      <td>NaN</td>\n",
       "    </tr>\n",
       "    <tr>\n",
       "      <th>25%</th>\n",
       "      <td>58063.000000</td>\n",
       "      <td>NaN</td>\n",
       "      <td>NaN</td>\n",
       "      <td>NaN</td>\n",
       "      <td>5.000000</td>\n",
       "      <td>NaN</td>\n",
       "      <td>6.000000</td>\n",
       "      <td>NaN</td>\n",
       "      <td>-0.043264</td>\n",
       "      <td>NaN</td>\n",
       "    </tr>\n",
       "    <tr>\n",
       "      <th>50%</th>\n",
       "      <td>115744.000000</td>\n",
       "      <td>NaN</td>\n",
       "      <td>NaN</td>\n",
       "      <td>NaN</td>\n",
       "      <td>8.000000</td>\n",
       "      <td>NaN</td>\n",
       "      <td>16.000000</td>\n",
       "      <td>NaN</td>\n",
       "      <td>0.058202</td>\n",
       "      <td>NaN</td>\n",
       "    </tr>\n",
       "    <tr>\n",
       "      <th>75%</th>\n",
       "      <td>173776.000000</td>\n",
       "      <td>NaN</td>\n",
       "      <td>NaN</td>\n",
       "      <td>NaN</td>\n",
       "      <td>10.000000</td>\n",
       "      <td>NaN</td>\n",
       "      <td>36.000000</td>\n",
       "      <td>NaN</td>\n",
       "      <td>0.173722</td>\n",
       "      <td>NaN</td>\n",
       "    </tr>\n",
       "    <tr>\n",
       "      <th>max</th>\n",
       "      <td>232291.000000</td>\n",
       "      <td>NaN</td>\n",
       "      <td>NaN</td>\n",
       "      <td>NaN</td>\n",
       "      <td>10.000000</td>\n",
       "      <td>NaN</td>\n",
       "      <td>1291.000000</td>\n",
       "      <td>NaN</td>\n",
       "      <td>1.000000</td>\n",
       "      <td>NaN</td>\n",
       "    </tr>\n",
       "  </tbody>\n",
       "</table>\n",
       "</div>"
      ],
      "text/plain": [
       "           Unnamed: 0        drugName      condition  review         rating  \\\n",
       "count   161297.000000          161297         160398  161297  161297.000000   \n",
       "unique            NaN            3436            884  112329            NaN   \n",
       "top               NaN  Levonorgestrel  Birth Control  \"Good\"            NaN   \n",
       "freq              NaN            3657          28788      33            NaN   \n",
       "mean    115923.585305             NaN            NaN     NaN       6.994377   \n",
       "std      67004.445170             NaN            NaN     NaN       3.272329   \n",
       "min          2.000000             NaN            NaN     NaN       1.000000   \n",
       "25%      58063.000000             NaN            NaN     NaN       5.000000   \n",
       "50%     115744.000000             NaN            NaN     NaN       8.000000   \n",
       "75%     173776.000000             NaN            NaN     NaN      10.000000   \n",
       "max     232291.000000             NaN            NaN     NaN      10.000000   \n",
       "\n",
       "                 date    usefulCount                         drug_class  \\\n",
       "count          161297  161297.000000                              23460   \n",
       "unique           3579            NaN                                 22   \n",
       "top     March 1, 2016            NaN  antifungal (except metronidazole)   \n",
       "freq              146            NaN                               4201   \n",
       "mean              NaN      28.004755                                NaN   \n",
       "std               NaN      36.403742                                NaN   \n",
       "min               NaN       0.000000                                NaN   \n",
       "25%               NaN       6.000000                                NaN   \n",
       "50%               NaN      16.000000                                NaN   \n",
       "75%               NaN      36.000000                                NaN   \n",
       "max               NaN    1291.000000                                NaN   \n",
       "\n",
       "            sentiment sentiment_label  \n",
       "count   161297.000000          161297  \n",
       "unique            NaN               3  \n",
       "top               NaN        positive  \n",
       "freq              NaN          101041  \n",
       "mean         0.064847             NaN  \n",
       "std          0.222437             NaN  \n",
       "min         -1.000000             NaN  \n",
       "25%         -0.043264             NaN  \n",
       "50%          0.058202             NaN  \n",
       "75%          0.173722             NaN  \n",
       "max          1.000000             NaN  "
      ]
     },
     "execution_count": 7,
     "metadata": {},
     "output_type": "execute_result"
    }
   ],
   "source": [
    "df.describe(include=\"all\")"
   ]
  },
  {
   "cell_type": "code",
   "execution_count": 8,
   "id": "f1e227f6-0ca3-4d01-834c-835b9e12adca",
   "metadata": {},
   "outputs": [
    {
     "name": "stdout",
     "output_type": "stream",
     "text": [
      "<class 'pandas.core.frame.DataFrame'>\n",
      "RangeIndex: 161297 entries, 0 to 161296\n",
      "Data columns (total 10 columns):\n",
      " #   Column           Non-Null Count   Dtype  \n",
      "---  ------           --------------   -----  \n",
      " 0   Unnamed: 0       161297 non-null  int64  \n",
      " 1   drugName         161297 non-null  object \n",
      " 2   condition        160398 non-null  object \n",
      " 3   review           161297 non-null  object \n",
      " 4   rating           161297 non-null  float64\n",
      " 5   date             161297 non-null  object \n",
      " 6   usefulCount      161297 non-null  int64  \n",
      " 7   drug_class       23460 non-null   object \n",
      " 8   sentiment        161297 non-null  float64\n",
      " 9   sentiment_label  161297 non-null  object \n",
      "dtypes: float64(2), int64(2), object(6)\n",
      "memory usage: 12.3+ MB\n"
     ]
    }
   ],
   "source": [
    "df.info()"
   ]
  },
  {
   "cell_type": "code",
   "execution_count": 10,
   "id": "ea365d72-99f7-4b90-9dfe-7f31daecb9d6",
   "metadata": {},
   "outputs": [
    {
     "data": {
      "text/plain": [
       "Unnamed: 0              0\n",
       "drugName                0\n",
       "condition             899\n",
       "review                  0\n",
       "rating                  0\n",
       "date                    0\n",
       "usefulCount             0\n",
       "drug_class         137837\n",
       "sentiment               0\n",
       "sentiment_label         0\n",
       "dtype: int64"
      ]
     },
     "execution_count": 10,
     "metadata": {},
     "output_type": "execute_result"
    }
   ],
   "source": [
    "df.isnull().sum()"
   ]
  },
  {
   "cell_type": "code",
   "execution_count": 13,
   "id": "d277248b-9a35-471a-bd79-278c4220ff4a",
   "metadata": {
    "scrolled": true
   },
   "outputs": [],
   "source": [
    "df.drop('Unnamed: 0',axis=1,inplace=True)"
   ]
  },
  {
   "cell_type": "code",
   "execution_count": 18,
   "id": "ac594aae-d354-4ccf-b299-a3d835708b67",
   "metadata": {
    "scrolled": true
   },
   "outputs": [
    {
     "data": {
      "text/plain": [
       "Index(['drugName', 'condition', 'review', 'rating', 'date', 'usefulCount',\n",
       "       'drug_class', 'sentiment', 'sentiment_label'],\n",
       "      dtype='object')"
      ]
     },
     "execution_count": 18,
     "metadata": {},
     "output_type": "execute_result"
    }
   ],
   "source": [
    "df.columns"
   ]
  },
  {
   "cell_type": "markdown",
   "id": "f3daa957-cde0-467e-899d-227be80acfc3",
   "metadata": {},
   "source": [
    "# Assignment Questions"
   ]
  },
  {
   "cell_type": "markdown",
   "id": "7c4a136b-bcc8-4eeb-bec8-6351effa2e68",
   "metadata": {},
   "source": [
    "### 1. What is the most popular drugs?"
   ]
  },
  {
   "cell_type": "code",
   "execution_count": 24,
   "id": "3f1b0926-87ae-4117-bb1c-6589b05a2dc8",
   "metadata": {},
   "outputs": [
    {
     "data": {
      "text/html": [
       "<div>\n",
       "<style scoped>\n",
       "    .dataframe tbody tr th:only-of-type {\n",
       "        vertical-align: middle;\n",
       "    }\n",
       "\n",
       "    .dataframe tbody tr th {\n",
       "        vertical-align: top;\n",
       "    }\n",
       "\n",
       "    .dataframe thead th {\n",
       "        text-align: right;\n",
       "    }\n",
       "</style>\n",
       "<table border=\"1\" class=\"dataframe\">\n",
       "  <thead>\n",
       "    <tr style=\"text-align: right;\">\n",
       "      <th></th>\n",
       "      <th>drugName</th>\n",
       "      <th>condition</th>\n",
       "      <th>review</th>\n",
       "      <th>rating</th>\n",
       "      <th>date</th>\n",
       "      <th>usefulCount</th>\n",
       "      <th>drug_class</th>\n",
       "      <th>sentiment</th>\n",
       "      <th>sentiment_label</th>\n",
       "    </tr>\n",
       "  </thead>\n",
       "  <tbody>\n",
       "    <tr>\n",
       "      <th>6716</th>\n",
       "      <td>Sertraline</td>\n",
       "      <td>Depression</td>\n",
       "      <td>\"I remember reading people&amp;#039;s opinions, on...</td>\n",
       "      <td>10.0</td>\n",
       "      <td>July 31, 2008</td>\n",
       "      <td>1291</td>\n",
       "      <td>NaN</td>\n",
       "      <td>0.403333</td>\n",
       "      <td>positive</td>\n",
       "    </tr>\n",
       "    <tr>\n",
       "      <th>33552</th>\n",
       "      <td>Zoloft</td>\n",
       "      <td>Depression</td>\n",
       "      <td>\"I remember reading people&amp;#039;s opinions, on...</td>\n",
       "      <td>10.0</td>\n",
       "      <td>July 31, 2008</td>\n",
       "      <td>1291</td>\n",
       "      <td>NaN</td>\n",
       "      <td>0.403333</td>\n",
       "      <td>positive</td>\n",
       "    </tr>\n",
       "  </tbody>\n",
       "</table>\n",
       "</div>"
      ],
      "text/plain": [
       "         drugName   condition  \\\n",
       "6716   Sertraline  Depression   \n",
       "33552      Zoloft  Depression   \n",
       "\n",
       "                                                  review  rating  \\\n",
       "6716   \"I remember reading people&#039;s opinions, on...    10.0   \n",
       "33552  \"I remember reading people&#039;s opinions, on...    10.0   \n",
       "\n",
       "                date  usefulCount drug_class  sentiment sentiment_label  \n",
       "6716   July 31, 2008         1291        NaN   0.403333        positive  \n",
       "33552  July 31, 2008         1291        NaN   0.403333        positive  "
      ]
     },
     "execution_count": 24,
     "metadata": {},
     "output_type": "execute_result"
    }
   ],
   "source": [
    "df[(df[\"rating\"]==10) & (df[\"usefulCount\"]==df[\"usefulCount\"].max())&(df[\"sentiment_label\"]==\"positive\")]"
   ]
  },
  {
   "cell_type": "markdown",
   "id": "bd8bb210-e516-4781-8722-3272d2fe3b91",
   "metadata": {},
   "source": [
    "Sertaline and Zoloft are the most popular Drug used by users."
   ]
  },
  {
   "cell_type": "markdown",
   "id": "da4ce1b2-b0df-4220-a5ec-9a0e12ea0d15",
   "metadata": {},
   "source": [
    "### 2. What are the groups/classification of drugs used?"
   ]
  },
  {
   "cell_type": "code",
   "execution_count": 27,
   "id": "06994536-4942-4387-ab39-53b193ad2084",
   "metadata": {},
   "outputs": [
    {
     "data": {
      "text/plain": [
       "array(['arb blocker', nan, 'antifungal (except metronidazole)',\n",
       "       'oral hypoglycemics', 'opiod analgesics', 'antibiotic',\n",
       "       'anti-anxiety', 'h2 blockers (anti-ulcers)', 'beta blockers',\n",
       "       'ace inhibitor', 'thrombolytics', 'alpha blocker',\n",
       "       'corticosteroid (prednisone)', 'antipyschotics (phenothiazine)',\n",
       "       'antibiotic(penicillins)', 'barbiturate',\n",
       "       'calcium channel blocker', 'anesthetic', 'pituitary hormone',\n",
       "       'antibiotic (cephalosporins)', 'beta blocker',\n",
       "       'neuromuscular blocking agents', 'anticoagulants'], dtype=object)"
      ]
     },
     "execution_count": 27,
     "metadata": {},
     "output_type": "execute_result"
    }
   ],
   "source": [
    "df[\"drug_class\"].unique()"
   ]
  },
  {
   "cell_type": "markdown",
   "id": "94f022cf-5389-473c-bd19-ade101ef62ee",
   "metadata": {},
   "source": [
    "### 3. Which Drug has the best review?"
   ]
  },
  {
   "cell_type": "code",
   "execution_count": 29,
   "id": "e2c3ecdc-e43e-4522-9525-924b302e6c42",
   "metadata": {
    "scrolled": true
   },
   "outputs": [
    {
     "data": {
      "text/html": [
       "<div>\n",
       "<style scoped>\n",
       "    .dataframe tbody tr th:only-of-type {\n",
       "        vertical-align: middle;\n",
       "    }\n",
       "\n",
       "    .dataframe tbody tr th {\n",
       "        vertical-align: top;\n",
       "    }\n",
       "\n",
       "    .dataframe thead th {\n",
       "        text-align: right;\n",
       "    }\n",
       "</style>\n",
       "<table border=\"1\" class=\"dataframe\">\n",
       "  <thead>\n",
       "    <tr style=\"text-align: right;\">\n",
       "      <th></th>\n",
       "      <th>drugName</th>\n",
       "      <th>condition</th>\n",
       "      <th>review</th>\n",
       "      <th>rating</th>\n",
       "      <th>date</th>\n",
       "      <th>usefulCount</th>\n",
       "      <th>drug_class</th>\n",
       "      <th>sentiment</th>\n",
       "      <th>sentiment_label</th>\n",
       "    </tr>\n",
       "  </thead>\n",
       "  <tbody>\n",
       "    <tr>\n",
       "      <th>142</th>\n",
       "      <td>Xanax</td>\n",
       "      <td>Panic Disorde</td>\n",
       "      <td>\"2mg of xanax works perfectly for my panic att...</td>\n",
       "      <td>10.0</td>\n",
       "      <td>July 23, 2008</td>\n",
       "      <td>41</td>\n",
       "      <td>NaN</td>\n",
       "      <td>1.0</td>\n",
       "      <td>positive</td>\n",
       "    </tr>\n",
       "    <tr>\n",
       "      <th>377</th>\n",
       "      <td>Norco</td>\n",
       "      <td>Pain</td>\n",
       "      <td>\"I also have knee pain, shoulder pain, elbow a...</td>\n",
       "      <td>10.0</td>\n",
       "      <td>May 21, 2012</td>\n",
       "      <td>19</td>\n",
       "      <td>NaN</td>\n",
       "      <td>1.0</td>\n",
       "      <td>positive</td>\n",
       "    </tr>\n",
       "    <tr>\n",
       "      <th>458</th>\n",
       "      <td>Bactrim DS</td>\n",
       "      <td>Upper Respiratory Tract Infection</td>\n",
       "      <td>\"Best antibiotic I&amp;#039;ve used. I&amp;#039;ve nev...</td>\n",
       "      <td>10.0</td>\n",
       "      <td>September 9, 2014</td>\n",
       "      <td>14</td>\n",
       "      <td>NaN</td>\n",
       "      <td>1.0</td>\n",
       "      <td>positive</td>\n",
       "    </tr>\n",
       "    <tr>\n",
       "      <th>652</th>\n",
       "      <td>Diflucan</td>\n",
       "      <td>Vaginal Yeast Infection</td>\n",
       "      <td>\"Excellent cleared all symtoms in 24hours\"</td>\n",
       "      <td>10.0</td>\n",
       "      <td>March 7, 2008</td>\n",
       "      <td>114</td>\n",
       "      <td>NaN</td>\n",
       "      <td>1.0</td>\n",
       "      <td>positive</td>\n",
       "    </tr>\n",
       "    <tr>\n",
       "      <th>830</th>\n",
       "      <td>Lamotrigine</td>\n",
       "      <td>Bipolar Disorde</td>\n",
       "      <td>\"Excellent medication for bipolar disorder alt...</td>\n",
       "      <td>10.0</td>\n",
       "      <td>June 16, 2011</td>\n",
       "      <td>8</td>\n",
       "      <td>NaN</td>\n",
       "      <td>1.0</td>\n",
       "      <td>positive</td>\n",
       "    </tr>\n",
       "    <tr>\n",
       "      <th>...</th>\n",
       "      <td>...</td>\n",
       "      <td>...</td>\n",
       "      <td>...</td>\n",
       "      <td>...</td>\n",
       "      <td>...</td>\n",
       "      <td>...</td>\n",
       "      <td>...</td>\n",
       "      <td>...</td>\n",
       "      <td>...</td>\n",
       "    </tr>\n",
       "    <tr>\n",
       "      <th>158365</th>\n",
       "      <td>Durezol</td>\n",
       "      <td>Uveitis</td>\n",
       "      <td>\"Best opthalmic steroid I&amp;#039;ve used for my ...</td>\n",
       "      <td>10.0</td>\n",
       "      <td>May 21, 2013</td>\n",
       "      <td>27</td>\n",
       "      <td>NaN</td>\n",
       "      <td>1.0</td>\n",
       "      <td>positive</td>\n",
       "    </tr>\n",
       "    <tr>\n",
       "      <th>159831</th>\n",
       "      <td>Hydrocortisone</td>\n",
       "      <td>Hemorrhoids</td>\n",
       "      <td>\"After 2 hemorrhoid surgeries, this product wa...</td>\n",
       "      <td>10.0</td>\n",
       "      <td>November 30, 2014</td>\n",
       "      <td>26</td>\n",
       "      <td>corticosteroid (prednisone)</td>\n",
       "      <td>1.0</td>\n",
       "      <td>positive</td>\n",
       "    </tr>\n",
       "    <tr>\n",
       "      <th>159909</th>\n",
       "      <td>Abilify</td>\n",
       "      <td>Bipolar Disorde</td>\n",
       "      <td>\"I have had no suicidal thoughts since I&amp;#039;...</td>\n",
       "      <td>10.0</td>\n",
       "      <td>June 22, 2012</td>\n",
       "      <td>26</td>\n",
       "      <td>NaN</td>\n",
       "      <td>1.0</td>\n",
       "      <td>positive</td>\n",
       "    </tr>\n",
       "    <tr>\n",
       "      <th>160648</th>\n",
       "      <td>Trazodone</td>\n",
       "      <td>Anxiety</td>\n",
       "      <td>\"Trazarone 50mg works for me great! I wasn&amp;#03...</td>\n",
       "      <td>10.0</td>\n",
       "      <td>April 29, 2017</td>\n",
       "      <td>66</td>\n",
       "      <td>opiod analgesics</td>\n",
       "      <td>1.0</td>\n",
       "      <td>positive</td>\n",
       "    </tr>\n",
       "    <tr>\n",
       "      <th>160990</th>\n",
       "      <td>Nexplanon</td>\n",
       "      <td>Birth Control</td>\n",
       "      <td>\"I&amp;#039;ve had my nexplanon since January 2014...</td>\n",
       "      <td>10.0</td>\n",
       "      <td>December 10, 2016</td>\n",
       "      <td>13</td>\n",
       "      <td>NaN</td>\n",
       "      <td>1.0</td>\n",
       "      <td>positive</td>\n",
       "    </tr>\n",
       "  </tbody>\n",
       "</table>\n",
       "<p>535 rows × 9 columns</p>\n",
       "</div>"
      ],
      "text/plain": [
       "              drugName                          condition  \\\n",
       "142              Xanax                      Panic Disorde   \n",
       "377              Norco                               Pain   \n",
       "458         Bactrim DS  Upper Respiratory Tract Infection   \n",
       "652           Diflucan            Vaginal Yeast Infection   \n",
       "830        Lamotrigine                    Bipolar Disorde   \n",
       "...                ...                                ...   \n",
       "158365         Durezol                            Uveitis   \n",
       "159831  Hydrocortisone                        Hemorrhoids   \n",
       "159909         Abilify                    Bipolar Disorde   \n",
       "160648       Trazodone                            Anxiety   \n",
       "160990       Nexplanon                      Birth Control   \n",
       "\n",
       "                                                   review  rating  \\\n",
       "142     \"2mg of xanax works perfectly for my panic att...    10.0   \n",
       "377     \"I also have knee pain, shoulder pain, elbow a...    10.0   \n",
       "458     \"Best antibiotic I&#039;ve used. I&#039;ve nev...    10.0   \n",
       "652            \"Excellent cleared all symtoms in 24hours\"    10.0   \n",
       "830     \"Excellent medication for bipolar disorder alt...    10.0   \n",
       "...                                                   ...     ...   \n",
       "158365  \"Best opthalmic steroid I&#039;ve used for my ...    10.0   \n",
       "159831  \"After 2 hemorrhoid surgeries, this product wa...    10.0   \n",
       "159909  \"I have had no suicidal thoughts since I&#039;...    10.0   \n",
       "160648  \"Trazarone 50mg works for me great! I wasn&#03...    10.0   \n",
       "160990  \"I&#039;ve had my nexplanon since January 2014...    10.0   \n",
       "\n",
       "                     date  usefulCount                   drug_class  \\\n",
       "142         July 23, 2008           41                          NaN   \n",
       "377          May 21, 2012           19                          NaN   \n",
       "458     September 9, 2014           14                          NaN   \n",
       "652         March 7, 2008          114                          NaN   \n",
       "830         June 16, 2011            8                          NaN   \n",
       "...                   ...          ...                          ...   \n",
       "158365       May 21, 2013           27                          NaN   \n",
       "159831  November 30, 2014           26  corticosteroid (prednisone)   \n",
       "159909      June 22, 2012           26                          NaN   \n",
       "160648     April 29, 2017           66             opiod analgesics   \n",
       "160990  December 10, 2016           13                          NaN   \n",
       "\n",
       "        sentiment sentiment_label  \n",
       "142           1.0        positive  \n",
       "377           1.0        positive  \n",
       "458           1.0        positive  \n",
       "652           1.0        positive  \n",
       "830           1.0        positive  \n",
       "...           ...             ...  \n",
       "158365        1.0        positive  \n",
       "159831        1.0        positive  \n",
       "159909        1.0        positive  \n",
       "160648        1.0        positive  \n",
       "160990        1.0        positive  \n",
       "\n",
       "[535 rows x 9 columns]"
      ]
     },
     "execution_count": 29,
     "metadata": {},
     "output_type": "execute_result"
    }
   ],
   "source": [
    "max_sentiment = df[\"sentiment\"].max()\n",
    "\n",
    "best_review_drugs = df[(df[\"sentiment\"]==max_sentiment) & (df[\"sentiment_label\"]==\"positive\")&(df[\"rating\"]==10)]\n",
    "best_review_drugs"
   ]
  },
  {
   "cell_type": "markdown",
   "id": "63a08c35-bd17-47b5-89ef-0ed01a199726",
   "metadata": {},
   "source": [
    "### 4. How many drugs do we have?"
   ]
  },
  {
   "cell_type": "code",
   "execution_count": 31,
   "id": "f87ef1f8-76cd-407c-8813-2a3097c07c1a",
   "metadata": {},
   "outputs": [
    {
     "name": "stdout",
     "output_type": "stream",
     "text": [
      "There are total of 885 unique Drugs\n"
     ]
    }
   ],
   "source": [
    "# on the bases of conditions\n",
    "unique_drugs = len(df[\"condition\"].unique())\n",
    "\n",
    "print(f\"There are total of {unique_drugs} unique Drugs\")"
   ]
  },
  {
   "cell_type": "markdown",
   "id": "09d02325-c6ee-4f7a-8d8d-0254d5108f65",
   "metadata": {},
   "source": [
    "### 5. The number of drugs per condition?"
   ]
  },
  {
   "cell_type": "code",
   "execution_count": 49,
   "id": "c6165bea-2b06-4b45-ab31-198702dbd907",
   "metadata": {},
   "outputs": [
    {
     "data": {
      "text/html": [
       "<div>\n",
       "<style scoped>\n",
       "    .dataframe tbody tr th:only-of-type {\n",
       "        vertical-align: middle;\n",
       "    }\n",
       "\n",
       "    .dataframe tbody tr th {\n",
       "        vertical-align: top;\n",
       "    }\n",
       "\n",
       "    .dataframe thead th {\n",
       "        text-align: right;\n",
       "    }\n",
       "</style>\n",
       "<table border=\"1\" class=\"dataframe\">\n",
       "  <thead>\n",
       "    <tr style=\"text-align: right;\">\n",
       "      <th></th>\n",
       "      <th>condition</th>\n",
       "      <th>drugName</th>\n",
       "    </tr>\n",
       "  </thead>\n",
       "  <tbody>\n",
       "    <tr>\n",
       "      <th>0</th>\n",
       "      <td>0&lt;/span&gt; users found this comment helpful.</td>\n",
       "      <td>42</td>\n",
       "    </tr>\n",
       "    <tr>\n",
       "      <th>1</th>\n",
       "      <td>10&lt;/span&gt; users found this comment helpful.</td>\n",
       "      <td>28</td>\n",
       "    </tr>\n",
       "    <tr>\n",
       "      <th>2</th>\n",
       "      <td>110&lt;/span&gt; users found this comment helpful.</td>\n",
       "      <td>1</td>\n",
       "    </tr>\n",
       "    <tr>\n",
       "      <th>3</th>\n",
       "      <td>11&lt;/span&gt; users found this comment helpful.</td>\n",
       "      <td>10</td>\n",
       "    </tr>\n",
       "    <tr>\n",
       "      <th>4</th>\n",
       "      <td>121&lt;/span&gt; users found this comment helpful.</td>\n",
       "      <td>1</td>\n",
       "    </tr>\n",
       "    <tr>\n",
       "      <th>...</th>\n",
       "      <td>...</td>\n",
       "      <td>...</td>\n",
       "    </tr>\n",
       "    <tr>\n",
       "      <th>879</th>\n",
       "      <td>unctional Gastric Disorde</td>\n",
       "      <td>1</td>\n",
       "    </tr>\n",
       "    <tr>\n",
       "      <th>880</th>\n",
       "      <td>ungal Infection Prophylaxis</td>\n",
       "      <td>1</td>\n",
       "    </tr>\n",
       "    <tr>\n",
       "      <th>881</th>\n",
       "      <td>ungal Pneumonia</td>\n",
       "      <td>1</td>\n",
       "    </tr>\n",
       "    <tr>\n",
       "      <th>882</th>\n",
       "      <td>von Willebrand's Disease</td>\n",
       "      <td>3</td>\n",
       "    </tr>\n",
       "    <tr>\n",
       "      <th>883</th>\n",
       "      <td>zen Shoulde</td>\n",
       "      <td>8</td>\n",
       "    </tr>\n",
       "  </tbody>\n",
       "</table>\n",
       "<p>884 rows × 2 columns</p>\n",
       "</div>"
      ],
      "text/plain": [
       "                                        condition  drugName\n",
       "0      0</span> users found this comment helpful.        42\n",
       "1     10</span> users found this comment helpful.        28\n",
       "2    110</span> users found this comment helpful.         1\n",
       "3     11</span> users found this comment helpful.        10\n",
       "4    121</span> users found this comment helpful.         1\n",
       "..                                            ...       ...\n",
       "879                     unctional Gastric Disorde         1\n",
       "880                   ungal Infection Prophylaxis         1\n",
       "881                               ungal Pneumonia         1\n",
       "882                      von Willebrand's Disease         3\n",
       "883                                   zen Shoulde         8\n",
       "\n",
       "[884 rows x 2 columns]"
      ]
     },
     "execution_count": 49,
     "metadata": {},
     "output_type": "execute_result"
    }
   ],
   "source": [
    "# The Number of Drugs Per Condition\n",
    "pd.DataFrame(df.groupby(\"condition\")[\"drugName\"].unique().apply(lambda x:len(x)).reset_index())"
   ]
  },
  {
   "cell_type": "markdown",
   "id": "3b37d410-d68f-4d28-b602-74ebf87b7c6a",
   "metadata": {},
   "source": [
    "### 6. Number of patients that searched on a particular drug?"
   ]
  },
  {
   "cell_type": "code",
   "execution_count": 51,
   "id": "9e606607-04ca-47ba-a2e8-e0f2ba39d229",
   "metadata": {
    "scrolled": true
   },
   "outputs": [
    {
     "data": {
      "text/html": [
       "<div>\n",
       "<style scoped>\n",
       "    .dataframe tbody tr th:only-of-type {\n",
       "        vertical-align: middle;\n",
       "    }\n",
       "\n",
       "    .dataframe tbody tr th {\n",
       "        vertical-align: top;\n",
       "    }\n",
       "\n",
       "    .dataframe thead th {\n",
       "        text-align: right;\n",
       "    }\n",
       "</style>\n",
       "<table border=\"1\" class=\"dataframe\">\n",
       "  <thead>\n",
       "    <tr style=\"text-align: right;\">\n",
       "      <th></th>\n",
       "      <th>usefulCount</th>\n",
       "    </tr>\n",
       "    <tr>\n",
       "      <th>drugName</th>\n",
       "      <th></th>\n",
       "    </tr>\n",
       "  </thead>\n",
       "  <tbody>\n",
       "    <tr>\n",
       "      <th>A + D Cracked Skin Relief</th>\n",
       "      <td>6</td>\n",
       "    </tr>\n",
       "    <tr>\n",
       "      <th>A / B Otic</th>\n",
       "      <td>20</td>\n",
       "    </tr>\n",
       "    <tr>\n",
       "      <th>Abacavir / dolutegravir / lamivudine</th>\n",
       "      <td>650</td>\n",
       "    </tr>\n",
       "    <tr>\n",
       "      <th>Abacavir / lamivudine / zidovudine</th>\n",
       "      <td>1</td>\n",
       "    </tr>\n",
       "    <tr>\n",
       "      <th>Abatacept</th>\n",
       "      <td>976</td>\n",
       "    </tr>\n",
       "    <tr>\n",
       "      <th>...</th>\n",
       "      <td>...</td>\n",
       "    </tr>\n",
       "    <tr>\n",
       "      <th>Zyvox</th>\n",
       "      <td>361</td>\n",
       "    </tr>\n",
       "    <tr>\n",
       "      <th>ZzzQuil</th>\n",
       "      <td>20</td>\n",
       "    </tr>\n",
       "    <tr>\n",
       "      <th>depo-subQ provera 104</th>\n",
       "      <td>0</td>\n",
       "    </tr>\n",
       "    <tr>\n",
       "      <th>ella</th>\n",
       "      <td>485</td>\n",
       "    </tr>\n",
       "    <tr>\n",
       "      <th>femhrt</th>\n",
       "      <td>44</td>\n",
       "    </tr>\n",
       "  </tbody>\n",
       "</table>\n",
       "<p>3436 rows × 1 columns</p>\n",
       "</div>"
      ],
      "text/plain": [
       "                                      usefulCount\n",
       "drugName                                         \n",
       "A + D Cracked Skin Relief                       6\n",
       "A / B Otic                                     20\n",
       "Abacavir / dolutegravir / lamivudine          650\n",
       "Abacavir / lamivudine / zidovudine              1\n",
       "Abatacept                                     976\n",
       "...                                           ...\n",
       "Zyvox                                         361\n",
       "ZzzQuil                                        20\n",
       "depo-subQ provera 104                           0\n",
       "ella                                          485\n",
       "femhrt                                         44\n",
       "\n",
       "[3436 rows x 1 columns]"
      ]
     },
     "execution_count": 51,
     "metadata": {},
     "output_type": "execute_result"
    }
   ],
   "source": [
    "no_of_people_searched_per_drug = pd.DataFrame(df.groupby(\"drugName\")[\"usefulCount\"].sum())\n",
    "no_of_people_searched_per_drug"
   ]
  },
  {
   "cell_type": "code",
   "execution_count": 53,
   "id": "dadac5da-3f25-490e-9c85-affd45f58e15",
   "metadata": {},
   "outputs": [
    {
     "data": {
      "text/plain": [
       "drugName       femhrt\n",
       "usefulCount     58154\n",
       "dtype: object"
      ]
     },
     "execution_count": 53,
     "metadata": {},
     "output_type": "execute_result"
    }
   ],
   "source": [
    "no_of_people_searched_per_drug.reset_index().max()"
   ]
  },
  {
   "cell_type": "markdown",
   "id": "07dfb7e8-53c1-46c5-b121-438d1e84f918",
   "metadata": {},
   "source": [
    "# Questions on date"
   ]
  },
  {
   "cell_type": "markdown",
   "id": "7b1effed-9fb0-4967-b456-1dc5bd89d1f2",
   "metadata": {},
   "source": [
    "### 1. Distribution of Rating Per Date/Year"
   ]
  },
  {
   "cell_type": "code",
   "execution_count": 151,
   "id": "d67278a9-9b2d-47af-8fa2-347b35a8603d",
   "metadata": {},
   "outputs": [],
   "source": [
    "df[\"date\"] = pd.to_datetime(df[\"date\"])"
   ]
  },
  {
   "cell_type": "code",
   "execution_count": 157,
   "id": "371bf3d6-f457-4904-837d-62be0aa45c40",
   "metadata": {},
   "outputs": [],
   "source": [
    "df[\"Year\"] = df[\"date\"].dt.year"
   ]
  },
  {
   "cell_type": "code",
   "execution_count": 163,
   "id": "96cd1561-90b0-4787-b5a6-586e3eec7574",
   "metadata": {},
   "outputs": [],
   "source": [
    "rating_per_year = df.groupby(\"Year\")[\"rating\"].mean()"
   ]
  },
  {
   "cell_type": "code",
   "execution_count": 169,
   "id": "4eb3c4e8-4325-4335-82d2-0130bc7c41e0",
   "metadata": {},
   "outputs": [
    {
     "data": {
      "image/png": "[encoded data removed]",
      "text/plain": [
       "<Figure size 640x480 with 1 Axes>"
      ]
     },
     "metadata": {},
     "output_type": "display_data"
    }
   ],
   "source": [
    "plt.plot(rating_per_year.index, rating_per_year.values,marker=\"o\")\n",
    "plt.xlabel(\"Year\")\n",
    "plt.ylabel(\"Average Rating\")\n",
    "plt.title(\"Distribution between Year and Rating\")\n",
    "plt.grid(True)"
   ]
  },
  {
   "cell_type": "markdown",
   "id": "fea6925b-9d6f-4a97-8285-4566c0dfb71d",
   "metadata": {},
   "source": [
    "### 2. Distribution of Review Per Year"
   ]
  },
  {
   "cell_type": "code",
   "execution_count": 147,
   "id": "4397dad1-bb84-4e20-8ee0-936d1df4e5c8",
   "metadata": {},
   "outputs": [
    {
     "data": {
      "text/plain": [
       "Index(['drugName', 'condition', 'review', 'rating', 'date', 'usefulCount',\n",
       "       'drug_class', 'sentiment', 'sentiment_label'],\n",
       "      dtype='object')"
      ]
     },
     "execution_count": 147,
     "metadata": {},
     "output_type": "execute_result"
    }
   ],
   "source": [
    "df.columns"
   ]
  },
  {
   "cell_type": "code",
   "execution_count": 184,
   "id": "cbc211ea-24ce-4ca9-9c6b-05720d17dec1",
   "metadata": {},
   "outputs": [],
   "source": [
    "df[\"review_length\"] = df[\"review\"].str.split(\" \").apply(lambda x : len(x))"
   ]
  },
  {
   "cell_type": "code",
   "execution_count": 186,
   "id": "d56073e8-369f-4bb0-9676-32494ec8f5be",
   "metadata": {},
   "outputs": [],
   "source": [
    "review_vs_length = df.groupby(\"Year\")[\"review_length\"].mean()"
   ]
  },
  {
   "cell_type": "code",
   "execution_count": 188,
   "id": "48d9e192-017a-4c6b-b520-f0cd6d75620a",
   "metadata": {},
   "outputs": [
    {
     "data": {
      "image/png": "[encoded data removed]",
      "text/plain": [
       "<Figure size 640x480 with 1 Axes>"
      ]
     },
     "metadata": {},
     "output_type": "display_data"
    }
   ],
   "source": [
    "plt.plot(review_vs_length.index, review_vs_length.values,marker=\"o\")\n",
    "plt.xlabel(\"Year\")\n",
    "plt.ylabel(\"Average Review Length \")\n",
    "plt.title(\"Distribution between Year and Review length\")\n",
    "plt.grid(True)"
   ]
  },
  {
   "cell_type": "markdown",
   "id": "d5b27b2a-23b9-430a-a1dd-492ff44653e3",
   "metadata": {},
   "source": [
    "\"Nowadays, people tend to leave fewer reviews, but the ones they do leave are more detailed and descriptive.\""
   ]
  },
  {
   "cell_type": "markdown",
   "id": "48a370cf-ce93-46e5-9fec-bfecf125eeca",
   "metadata": {},
   "source": [
    "### 3. Amount of review per year"
   ]
  },
  {
   "cell_type": "code",
   "execution_count": 193,
   "id": "9a0d171e-2113-44dc-b604-92143eacf5a3",
   "metadata": {},
   "outputs": [],
   "source": [
    "AmountReview_vs_Year = df.groupby(\"Year\")[\"review\"].count()"
   ]
  },
  {
   "cell_type": "code",
   "execution_count": 195,
   "id": "c1d0ef4c-04a6-4962-af41-470dd84c8f63",
   "metadata": {},
   "outputs": [
    {
     "data": {
      "image/png": "[encoded data removed]",
      "text/plain": [
       "<Figure size 640x480 with 1 Axes>"
      ]
     },
     "metadata": {},
     "output_type": "display_data"
    }
   ],
   "source": [
    "plt.plot(AmountReview_vs_Year.index, AmountReview_vs_Year.values,marker=\"o\")\n",
    "plt.xlabel(\"Year\")\n",
    "plt.ylabel(\"No. of Reviews\")\n",
    "plt.title(\"Distribution between Year and Review length\")\n",
    "plt.grid(True)"
   ]
  },
  {
   "cell_type": "code",
   "execution_count": null,
   "id": "0d76b091-f421-4eaf-8b80-15b9e3e5a23e",
   "metadata": {},
   "outputs": [],
   "source": []
  }
 ],
 "metadata": {
  "kernelspec": {
   "display_name": "Python 3 (ipykernel)",
   "language": "python",
   "name": "python3"
  },
  "language_info": {
   "codemirror_mode": {
    "name": "ipython",
    "version": 3
   },
   "file_extension": ".py",
   "mimetype": "text/x-python",
   "name": "python",
   "nbconvert_exporter": "python",
   "pygments_lexer": "ipython3",
   "version": "3.12.4"
  }
 },
 "nbformat": 4,
 "nbformat_minor": 5
}
