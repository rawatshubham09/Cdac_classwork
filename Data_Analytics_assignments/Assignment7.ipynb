{
 "cells": [
  {
   "cell_type": "code",
   "execution_count": 8,
   "id": "198a936f-6945-44eb-b705-eef887e14c3c",
   "metadata": {},
   "outputs": [],
   "source": [
    "import numpy as np\n",
    "import pandas as pd \n",
    "from statsmodels.stats.proportion import proportions_ztest"
   ]
  },
  {
   "cell_type": "code",
   "execution_count": 10,
   "id": "adbbc120-3077-4740-a671-82a7f9638e91",
   "metadata": {},
   "outputs": [
    {
     "data": {
      "text/html": [
       "<div>\n",
       "<style scoped>\n",
       "    .dataframe tbody tr th:only-of-type {\n",
       "        vertical-align: middle;\n",
       "    }\n",
       "\n",
       "    .dataframe tbody tr th {\n",
       "        vertical-align: top;\n",
       "    }\n",
       "\n",
       "    .dataframe thead th {\n",
       "        text-align: right;\n",
       "    }\n",
       "</style>\n",
       "<table border=\"1\" class=\"dataframe\">\n",
       "  <thead>\n",
       "    <tr style=\"text-align: right;\">\n",
       "      <th></th>\n",
       "      <th>PassengerId</th>\n",
       "      <th>Survived</th>\n",
       "      <th>Pclass</th>\n",
       "      <th>Name</th>\n",
       "      <th>Sex</th>\n",
       "      <th>Age</th>\n",
       "      <th>SibSp</th>\n",
       "      <th>Parch</th>\n",
       "      <th>Ticket</th>\n",
       "      <th>Fare</th>\n",
       "      <th>Cabin</th>\n",
       "      <th>Embarked</th>\n",
       "    </tr>\n",
       "  </thead>\n",
       "  <tbody>\n",
       "    <tr>\n",
       "      <th>164</th>\n",
       "      <td>165</td>\n",
       "      <td>0</td>\n",
       "      <td>3</td>\n",
       "      <td>Panula, Master. Eino Viljami</td>\n",
       "      <td>male</td>\n",
       "      <td>1.0</td>\n",
       "      <td>4</td>\n",
       "      <td>1</td>\n",
       "      <td>3101295</td>\n",
       "      <td>39.6875</td>\n",
       "      <td>NaN</td>\n",
       "      <td>S</td>\n",
       "    </tr>\n",
       "    <tr>\n",
       "      <th>240</th>\n",
       "      <td>241</td>\n",
       "      <td>0</td>\n",
       "      <td>3</td>\n",
       "      <td>Zabour, Miss. Thamine</td>\n",
       "      <td>female</td>\n",
       "      <td>NaN</td>\n",
       "      <td>1</td>\n",
       "      <td>0</td>\n",
       "      <td>2665</td>\n",
       "      <td>14.4542</td>\n",
       "      <td>NaN</td>\n",
       "      <td>C</td>\n",
       "    </tr>\n",
       "    <tr>\n",
       "      <th>67</th>\n",
       "      <td>68</td>\n",
       "      <td>0</td>\n",
       "      <td>3</td>\n",
       "      <td>Crease, Mr. Ernest James</td>\n",
       "      <td>male</td>\n",
       "      <td>19.0</td>\n",
       "      <td>0</td>\n",
       "      <td>0</td>\n",
       "      <td>S.P. 3464</td>\n",
       "      <td>8.1583</td>\n",
       "      <td>NaN</td>\n",
       "      <td>S</td>\n",
       "    </tr>\n",
       "    <tr>\n",
       "      <th>584</th>\n",
       "      <td>585</td>\n",
       "      <td>0</td>\n",
       "      <td>3</td>\n",
       "      <td>Paulner, Mr. Uscher</td>\n",
       "      <td>male</td>\n",
       "      <td>NaN</td>\n",
       "      <td>0</td>\n",
       "      <td>0</td>\n",
       "      <td>3411</td>\n",
       "      <td>8.7125</td>\n",
       "      <td>NaN</td>\n",
       "      <td>C</td>\n",
       "    </tr>\n",
       "    <tr>\n",
       "      <th>744</th>\n",
       "      <td>745</td>\n",
       "      <td>1</td>\n",
       "      <td>3</td>\n",
       "      <td>Stranden, Mr. Juho</td>\n",
       "      <td>male</td>\n",
       "      <td>31.0</td>\n",
       "      <td>0</td>\n",
       "      <td>0</td>\n",
       "      <td>STON/O 2. 3101288</td>\n",
       "      <td>7.9250</td>\n",
       "      <td>NaN</td>\n",
       "      <td>S</td>\n",
       "    </tr>\n",
       "  </tbody>\n",
       "</table>\n",
       "</div>"
      ],
      "text/plain": [
       "     PassengerId  Survived  Pclass                          Name     Sex  \\\n",
       "164          165         0       3  Panula, Master. Eino Viljami    male   \n",
       "240          241         0       3         Zabour, Miss. Thamine  female   \n",
       "67            68         0       3      Crease, Mr. Ernest James    male   \n",
       "584          585         0       3           Paulner, Mr. Uscher    male   \n",
       "744          745         1       3            Stranden, Mr. Juho    male   \n",
       "\n",
       "      Age  SibSp  Parch             Ticket     Fare Cabin Embarked  \n",
       "164   1.0      4      1            3101295  39.6875   NaN        S  \n",
       "240   NaN      1      0               2665  14.4542   NaN        C  \n",
       "67   19.0      0      0          S.P. 3464   8.1583   NaN        S  \n",
       "584   NaN      0      0               3411   8.7125   NaN        C  \n",
       "744  31.0      0      0  STON/O 2. 3101288   7.9250   NaN        S  "
      ]
     },
     "execution_count": 10,
     "metadata": {},
     "output_type": "execute_result"
    }
   ],
   "source": [
    "# Load the Titanic dataset \n",
    "url = 'https://raw.githubusercontent.com/datasciencedojo/datasets/master/titanic.csv'\n",
    "titanic_data = pd.read_csv(url)\n",
    "\n",
    "titanic_data.sample(5)"
   ]
  },
  {
   "cell_type": "markdown",
   "id": "000be3a7-cd73-4f48-85bf-95414bb83827",
   "metadata": {},
   "source": [
    "#### For the titanic dataset \n",
    "- perform the hypothesis testing to claim that there is a \n",
    "significant difference between  proportions of survived females to that of survive \r\n",
    "malemeans."
   ]
  },
  {
   "cell_type": "code",
   "execution_count": 12,
   "id": "4d7659b0-e19b-46f8-b49c-2f15c1bb7e99",
   "metadata": {},
   "outputs": [
    {
     "name": "stdout",
     "output_type": "stream",
     "text": [
      "Statistic: 16.218833930670097\n",
      "P-value: 3.7117477701134797e-59\n"
     ]
    }
   ],
   "source": [
    "# The number of survivors by gender\n",
    "survivors_by_gender = titanic_data.groupby('Sex')['Survived'].sum()\n",
    "total_by_gender = titanic_data['Sex'].value_counts()\n",
    "\n",
    "# Number of survived females and males\n",
    "survived_females = survivors_by_gender['female']\n",
    "survived_males = survivors_by_gender['male']\n",
    "\n",
    "# Total number of females and males\n",
    "total_females = total_by_gender['female']\n",
    "total_males = total_by_gender['male']\n",
    "\n",
    "# Two-proportion z-test\n",
    "count = [survived_females, survived_males]\n",
    "nobs = [total_females, total_males]\n",
    "\n",
    "stat, p_value = proportions_ztest(count, nobs)\n",
    "\n",
    "print(f'Statistic: {stat}')\n",
    "print(f'P-value: {p_value}')"
   ]
  },
  {
   "cell_type": "code",
   "execution_count": 16,
   "id": "06472e6d-6c78-414a-b227-58ca63cbcd70",
   "metadata": {},
   "outputs": [
    {
     "name": "stdout",
     "output_type": "stream",
     "text": [
      "We Accept the Null Hypothesis: there is a significant difference between proportions of survived females to that of survive male\n"
     ]
    }
   ],
   "source": [
    "if p_value < 1.96 and p_value > -1.96:\n",
    "    print(\"We Accept the Null Hypothesis: there is a significant difference between proportions of survived females to that of survive male\")\n",
    "else:\n",
    "    pint(\"Reject H0\")"
   ]
  },
  {
   "cell_type": "markdown",
   "id": "b3644474-58b0-49a3-b732-9d541058b092",
   "metadata": {},
   "source": [
    "#### For the iris dataset perform the ANOVA testing.\n",
    "- “Normally, species variable put as dependent variable to do classification. But species also can put as independent variable to conduct ANOVA test. Conduct the statistical test that figures out three or more differences in group means."
   ]
  },
  {
   "cell_type": "code",
   "execution_count": 2,
   "id": "9eadfbb7-ae8c-417b-b4b1-0757d2844b5b",
   "metadata": {},
   "outputs": [
    {
     "data": {
      "text/html": [
       "<div>\n",
       "<style scoped>\n",
       "    .dataframe tbody tr th:only-of-type {\n",
       "        vertical-align: middle;\n",
       "    }\n",
       "\n",
       "    .dataframe tbody tr th {\n",
       "        vertical-align: top;\n",
       "    }\n",
       "\n",
       "    .dataframe thead th {\n",
       "        text-align: right;\n",
       "    }\n",
       "</style>\n",
       "<table border=\"1\" class=\"dataframe\">\n",
       "  <thead>\n",
       "    <tr style=\"text-align: right;\">\n",
       "      <th></th>\n",
       "      <th>sepal_length</th>\n",
       "      <th>sepal_width</th>\n",
       "      <th>petal_length</th>\n",
       "      <th>petal_width</th>\n",
       "      <th>species</th>\n",
       "    </tr>\n",
       "  </thead>\n",
       "  <tbody>\n",
       "    <tr>\n",
       "      <th>0</th>\n",
       "      <td>5.1</td>\n",
       "      <td>3.5</td>\n",
       "      <td>1.4</td>\n",
       "      <td>0.2</td>\n",
       "      <td>setosa</td>\n",
       "    </tr>\n",
       "    <tr>\n",
       "      <th>1</th>\n",
       "      <td>4.9</td>\n",
       "      <td>3.0</td>\n",
       "      <td>1.4</td>\n",
       "      <td>0.2</td>\n",
       "      <td>setosa</td>\n",
       "    </tr>\n",
       "    <tr>\n",
       "      <th>2</th>\n",
       "      <td>4.7</td>\n",
       "      <td>3.2</td>\n",
       "      <td>1.3</td>\n",
       "      <td>0.2</td>\n",
       "      <td>setosa</td>\n",
       "    </tr>\n",
       "    <tr>\n",
       "      <th>3</th>\n",
       "      <td>4.6</td>\n",
       "      <td>3.1</td>\n",
       "      <td>1.5</td>\n",
       "      <td>0.2</td>\n",
       "      <td>setosa</td>\n",
       "    </tr>\n",
       "  </tbody>\n",
       "</table>\n",
       "</div>"
      ],
      "text/plain": [
       "   sepal_length  sepal_width  petal_length  petal_width species\n",
       "0           5.1          3.5           1.4          0.2  setosa\n",
       "1           4.9          3.0           1.4          0.2  setosa\n",
       "2           4.7          3.2           1.3          0.2  setosa\n",
       "3           4.6          3.1           1.5          0.2  setosa"
      ]
     },
     "execution_count": 2,
     "metadata": {},
     "output_type": "execute_result"
    }
   ],
   "source": [
    "import pandas as pd\n",
    "import statsmodels.api as sm\n",
    "from statsmodels.formula.api import ols\n",
    "\n",
    "# Load the iris dataset\n",
    "url = 'https://raw.githubusercontent.com/mwaskom/seaborn-data/master/iris.csv'\n",
    "iris_data = pd.read_csv(url)\n",
    "\n",
    "iris_data.head(4)\n"
   ]
  },
  {
   "cell_type": "code",
   "execution_count": 6,
   "id": "5d19654a-e9d7-4797-a02c-f39b0d591128",
   "metadata": {},
   "outputs": [
    {
     "name": "stdout",
     "output_type": "stream",
     "text": [
      "ANOVA results for sepal_length:\n",
      "             sum_sq     df           F        PR(>F)\n",
      "species   63.212133    2.0  119.264502  1.669669e-31\n",
      "Residual  38.956200  147.0         NaN           NaN \n",
      "\n",
      "ANOVA results for sepal_width:\n",
      "             sum_sq     df         F        PR(>F)\n",
      "species   11.344933    2.0  49.16004  4.492017e-17\n",
      "Residual  16.962000  147.0       NaN           NaN \n",
      "\n",
      "ANOVA results for petal_length:\n",
      "            sum_sq     df            F        PR(>F)\n",
      "species   437.1028    2.0  1180.161182  2.856777e-91\n",
      "Residual   27.2226  147.0          NaN           NaN \n",
      "\n",
      "ANOVA results for petal_width:\n",
      "             sum_sq     df           F        PR(>F)\n",
      "species   80.413333    2.0  960.007147  4.169446e-85\n",
      "Residual   6.156600  147.0         NaN           NaN \n",
      "\n"
     ]
    }
   ],
   "source": [
    "# ANOVA for each numerical feature\n",
    "features = ['sepal_length', 'sepal_width', 'petal_length', 'petal_width']\n",
    "results = {}\n",
    "\n",
    "for feature in features:\n",
    "    model = ols(f'{feature} ~ species', data=iris_data).fit()\n",
    "    anova_table = sm.stats.anova_lm(model, typ=2)\n",
    "    results[feature] = anova_table\n",
    "\n",
    "# Print the results\n",
    "for feature, result in results.items():\n",
    "    print(f'ANOVA results for {feature}:')\n",
    "    print(result, '\\n')\n"
   ]
  },
  {
   "cell_type": "code",
   "execution_count": null,
   "id": "bfacefd8-70b1-423b-8b8f-6f1730390152",
   "metadata": {},
   "outputs": [],
   "source": []
  }
 ],
 "metadata": {
  "kernelspec": {
   "display_name": "Python 3 (ipykernel)",
   "language": "python",
   "name": "python3"
  },
  "language_info": {
   "codemirror_mode": {
    "name": "ipython",
    "version": 3
   },
   "file_extension": ".py",
   "mimetype": "text/x-python",
   "name": "python",
   "nbconvert_exporter": "python",
   "pygments_lexer": "ipython3",
   "version": "3.12.4"
  }
 },
 "nbformat": 4,
 "nbformat_minor": 5
}
