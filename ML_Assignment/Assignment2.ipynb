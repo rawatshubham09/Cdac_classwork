{
 "cells": [
  {
   "cell_type": "code",
   "execution_count": 27,
   "id": "4328df40-0d03-4009-a544-a5855acb2672",
   "metadata": {},
   "outputs": [],
   "source": [
    "import pandas as pd\n",
    "import numpy as np\n",
    "import matplotlib.pyplot as plt\n",
    "import seaborn as sns"
   ]
  },
  {
   "cell_type": "code",
   "execution_count": 136,
   "id": "039e7983-a6c1-47b4-bfff-1f9719a19d3c",
   "metadata": {},
   "outputs": [],
   "source": [
    "from sklearn.linear_model import LinearRegression, Ridge, Lasso, ElasticNet\n",
    "from sklearn.model_selection import GridSearchCV, KFold\n",
    "from sklearn.preprocessing import LabelEncoder, MinMaxScaler, OneHotEncoder\n",
    "from sklearn.metrics import r2_score, accuracy_score, mean_absolute_error, mean_squared_error\n",
    "from sklearn.pipeline import Pipeline\n",
    "from sklearn.model_selection import train_test_split\n",
    "from sklearn.compose import  ColumnTransformer"
   ]
  },
  {
   "cell_type": "markdown",
   "id": "36840ce3-7a96-4654-9ef4-ff782dad3b4d",
   "metadata": {},
   "source": [
    "Problem statement:Consider a real estate company that has a dataset containing the prices of properties in the Delhi region. It wishes to use the data to optimise the sale prices of the properties based on important factors such as area, bedrooms, parking, etc.\r\n",
    "\r\n",
    "Essentially, the company wants:\r\n",
    "\r\n",
    "     1.To identify the variables affecting house prices, e.g. area, number of rooms, bathrooms, etc.\r\n",
    "\r\n",
    "     2.To create a linear model that quantitatively relates house prices with variables such as number of rooms, area, number of bathrooms\n",
    "     , etc.\r\n",
    "     3.To know the accuracy of the model, i.e. how well these variables can predict house prices.\r\n",
    "     \r\n",
    "(Note:use regularization concept to avoid over-fitting)"
   ]
  },
  {
   "cell_type": "code",
   "execution_count": 5,
   "id": "f7a2abe6-b3ad-4093-bb8f-996377f2774e",
   "metadata": {},
   "outputs": [],
   "source": [
    "pd.set_option(\"display.max_columns\",None)"
   ]
  },
  {
   "cell_type": "code",
   "execution_count": 7,
   "id": "4fcc45ee-4da1-4d8f-9a2a-379227ba4ba2",
   "metadata": {},
   "outputs": [
    {
     "data": {
      "text/html": [
       "<div>\n",
       "<style scoped>\n",
       "    .dataframe tbody tr th:only-of-type {\n",
       "        vertical-align: middle;\n",
       "    }\n",
       "\n",
       "    .dataframe tbody tr th {\n",
       "        vertical-align: top;\n",
       "    }\n",
       "\n",
       "    .dataframe thead th {\n",
       "        text-align: right;\n",
       "    }\n",
       "</style>\n",
       "<table border=\"1\" class=\"dataframe\">\n",
       "  <thead>\n",
       "    <tr style=\"text-align: right;\">\n",
       "      <th></th>\n",
       "      <th>price</th>\n",
       "      <th>area</th>\n",
       "      <th>bedrooms</th>\n",
       "      <th>bathrooms</th>\n",
       "      <th>stories</th>\n",
       "      <th>mainroad</th>\n",
       "      <th>guestroom</th>\n",
       "      <th>basement</th>\n",
       "      <th>hotwaterheating</th>\n",
       "      <th>airconditioning</th>\n",
       "      <th>parking</th>\n",
       "      <th>prefarea</th>\n",
       "      <th>furnishingstatus</th>\n",
       "    </tr>\n",
       "  </thead>\n",
       "  <tbody>\n",
       "    <tr>\n",
       "      <th>439</th>\n",
       "      <td>3255000</td>\n",
       "      <td>3930</td>\n",
       "      <td>2</td>\n",
       "      <td>1</td>\n",
       "      <td>1</td>\n",
       "      <td>no</td>\n",
       "      <td>no</td>\n",
       "      <td>no</td>\n",
       "      <td>no</td>\n",
       "      <td>no</td>\n",
       "      <td>0</td>\n",
       "      <td>no</td>\n",
       "      <td>unfurnished</td>\n",
       "    </tr>\n",
       "    <tr>\n",
       "      <th>520</th>\n",
       "      <td>2450000</td>\n",
       "      <td>7700</td>\n",
       "      <td>2</td>\n",
       "      <td>1</td>\n",
       "      <td>1</td>\n",
       "      <td>yes</td>\n",
       "      <td>no</td>\n",
       "      <td>no</td>\n",
       "      <td>no</td>\n",
       "      <td>no</td>\n",
       "      <td>0</td>\n",
       "      <td>no</td>\n",
       "      <td>unfurnished</td>\n",
       "    </tr>\n",
       "    <tr>\n",
       "      <th>257</th>\n",
       "      <td>4480000</td>\n",
       "      <td>8250</td>\n",
       "      <td>3</td>\n",
       "      <td>1</td>\n",
       "      <td>1</td>\n",
       "      <td>yes</td>\n",
       "      <td>no</td>\n",
       "      <td>no</td>\n",
       "      <td>no</td>\n",
       "      <td>no</td>\n",
       "      <td>0</td>\n",
       "      <td>no</td>\n",
       "      <td>furnished</td>\n",
       "    </tr>\n",
       "    <tr>\n",
       "      <th>188</th>\n",
       "      <td>5075000</td>\n",
       "      <td>5720</td>\n",
       "      <td>2</td>\n",
       "      <td>1</td>\n",
       "      <td>2</td>\n",
       "      <td>yes</td>\n",
       "      <td>no</td>\n",
       "      <td>no</td>\n",
       "      <td>no</td>\n",
       "      <td>yes</td>\n",
       "      <td>0</td>\n",
       "      <td>yes</td>\n",
       "      <td>unfurnished</td>\n",
       "    </tr>\n",
       "    <tr>\n",
       "      <th>112</th>\n",
       "      <td>6083000</td>\n",
       "      <td>4300</td>\n",
       "      <td>6</td>\n",
       "      <td>2</td>\n",
       "      <td>2</td>\n",
       "      <td>yes</td>\n",
       "      <td>no</td>\n",
       "      <td>no</td>\n",
       "      <td>no</td>\n",
       "      <td>no</td>\n",
       "      <td>0</td>\n",
       "      <td>no</td>\n",
       "      <td>furnished</td>\n",
       "    </tr>\n",
       "    <tr>\n",
       "      <th>356</th>\n",
       "      <td>3773000</td>\n",
       "      <td>2520</td>\n",
       "      <td>5</td>\n",
       "      <td>2</td>\n",
       "      <td>1</td>\n",
       "      <td>no</td>\n",
       "      <td>no</td>\n",
       "      <td>yes</td>\n",
       "      <td>no</td>\n",
       "      <td>yes</td>\n",
       "      <td>1</td>\n",
       "      <td>no</td>\n",
       "      <td>furnished</td>\n",
       "    </tr>\n",
       "    <tr>\n",
       "      <th>400</th>\n",
       "      <td>3500000</td>\n",
       "      <td>3512</td>\n",
       "      <td>2</td>\n",
       "      <td>1</td>\n",
       "      <td>1</td>\n",
       "      <td>yes</td>\n",
       "      <td>no</td>\n",
       "      <td>no</td>\n",
       "      <td>no</td>\n",
       "      <td>no</td>\n",
       "      <td>1</td>\n",
       "      <td>yes</td>\n",
       "      <td>unfurnished</td>\n",
       "    </tr>\n",
       "    <tr>\n",
       "      <th>469</th>\n",
       "      <td>3010000</td>\n",
       "      <td>4600</td>\n",
       "      <td>2</td>\n",
       "      <td>1</td>\n",
       "      <td>1</td>\n",
       "      <td>yes</td>\n",
       "      <td>no</td>\n",
       "      <td>no</td>\n",
       "      <td>no</td>\n",
       "      <td>no</td>\n",
       "      <td>0</td>\n",
       "      <td>no</td>\n",
       "      <td>furnished</td>\n",
       "    </tr>\n",
       "    <tr>\n",
       "      <th>525</th>\n",
       "      <td>2345000</td>\n",
       "      <td>3640</td>\n",
       "      <td>2</td>\n",
       "      <td>1</td>\n",
       "      <td>1</td>\n",
       "      <td>yes</td>\n",
       "      <td>no</td>\n",
       "      <td>no</td>\n",
       "      <td>no</td>\n",
       "      <td>no</td>\n",
       "      <td>0</td>\n",
       "      <td>no</td>\n",
       "      <td>unfurnished</td>\n",
       "    </tr>\n",
       "    <tr>\n",
       "      <th>119</th>\n",
       "      <td>5950000</td>\n",
       "      <td>7020</td>\n",
       "      <td>3</td>\n",
       "      <td>1</td>\n",
       "      <td>1</td>\n",
       "      <td>yes</td>\n",
       "      <td>no</td>\n",
       "      <td>yes</td>\n",
       "      <td>no</td>\n",
       "      <td>yes</td>\n",
       "      <td>2</td>\n",
       "      <td>yes</td>\n",
       "      <td>semi-furnished</td>\n",
       "    </tr>\n",
       "  </tbody>\n",
       "</table>\n",
       "</div>"
      ],
      "text/plain": [
       "       price  area  bedrooms  bathrooms  stories mainroad guestroom basement  \\\n",
       "439  3255000  3930         2          1        1       no        no       no   \n",
       "520  2450000  7700         2          1        1      yes        no       no   \n",
       "257  4480000  8250         3          1        1      yes        no       no   \n",
       "188  5075000  5720         2          1        2      yes        no       no   \n",
       "112  6083000  4300         6          2        2      yes        no       no   \n",
       "356  3773000  2520         5          2        1       no        no      yes   \n",
       "400  3500000  3512         2          1        1      yes        no       no   \n",
       "469  3010000  4600         2          1        1      yes        no       no   \n",
       "525  2345000  3640         2          1        1      yes        no       no   \n",
       "119  5950000  7020         3          1        1      yes        no      yes   \n",
       "\n",
       "    hotwaterheating airconditioning  parking prefarea furnishingstatus  \n",
       "439              no              no        0       no      unfurnished  \n",
       "520              no              no        0       no      unfurnished  \n",
       "257              no              no        0       no        furnished  \n",
       "188              no             yes        0      yes      unfurnished  \n",
       "112              no              no        0       no        furnished  \n",
       "356              no             yes        1       no        furnished  \n",
       "400              no              no        1      yes      unfurnished  \n",
       "469              no              no        0       no        furnished  \n",
       "525              no              no        0       no      unfurnished  \n",
       "119              no             yes        2      yes   semi-furnished  "
      ]
     },
     "execution_count": 7,
     "metadata": {},
     "output_type": "execute_result"
    }
   ],
   "source": [
    "df = pd.read_csv(\"C:\\\\Datasets\\\\Housing.csv\")\n",
    "df.sample(10)"
   ]
  },
  {
   "cell_type": "code",
   "execution_count": 11,
   "id": "b2fcc286-7094-430b-9c8c-8d98731265a4",
   "metadata": {},
   "outputs": [],
   "source": [
    "df_num = df.select_dtypes(exclude=\"object\")\n",
    "df_cat = df.select_dtypes(include=\"object\")"
   ]
  },
  {
   "cell_type": "code",
   "execution_count": 13,
   "id": "264c96dc-ecde-4883-9a47-13d03cb691da",
   "metadata": {},
   "outputs": [
    {
     "data": {
      "text/html": [
       "<div>\n",
       "<style scoped>\n",
       "    .dataframe tbody tr th:only-of-type {\n",
       "        vertical-align: middle;\n",
       "    }\n",
       "\n",
       "    .dataframe tbody tr th {\n",
       "        vertical-align: top;\n",
       "    }\n",
       "\n",
       "    .dataframe thead th {\n",
       "        text-align: right;\n",
       "    }\n",
       "</style>\n",
       "<table border=\"1\" class=\"dataframe\">\n",
       "  <thead>\n",
       "    <tr style=\"text-align: right;\">\n",
       "      <th></th>\n",
       "      <th>price</th>\n",
       "      <th>area</th>\n",
       "      <th>bedrooms</th>\n",
       "      <th>bathrooms</th>\n",
       "      <th>stories</th>\n",
       "      <th>parking</th>\n",
       "    </tr>\n",
       "  </thead>\n",
       "  <tbody>\n",
       "    <tr>\n",
       "      <th>count</th>\n",
       "      <td>5.450000e+02</td>\n",
       "      <td>545.000000</td>\n",
       "      <td>545.000000</td>\n",
       "      <td>545.000000</td>\n",
       "      <td>545.000000</td>\n",
       "      <td>545.000000</td>\n",
       "    </tr>\n",
       "    <tr>\n",
       "      <th>mean</th>\n",
       "      <td>4.766729e+06</td>\n",
       "      <td>5150.541284</td>\n",
       "      <td>2.965138</td>\n",
       "      <td>1.286239</td>\n",
       "      <td>1.805505</td>\n",
       "      <td>0.693578</td>\n",
       "    </tr>\n",
       "    <tr>\n",
       "      <th>std</th>\n",
       "      <td>1.870440e+06</td>\n",
       "      <td>2170.141023</td>\n",
       "      <td>0.738064</td>\n",
       "      <td>0.502470</td>\n",
       "      <td>0.867492</td>\n",
       "      <td>0.861586</td>\n",
       "    </tr>\n",
       "    <tr>\n",
       "      <th>min</th>\n",
       "      <td>1.750000e+06</td>\n",
       "      <td>1650.000000</td>\n",
       "      <td>1.000000</td>\n",
       "      <td>1.000000</td>\n",
       "      <td>1.000000</td>\n",
       "      <td>0.000000</td>\n",
       "    </tr>\n",
       "    <tr>\n",
       "      <th>25%</th>\n",
       "      <td>3.430000e+06</td>\n",
       "      <td>3600.000000</td>\n",
       "      <td>2.000000</td>\n",
       "      <td>1.000000</td>\n",
       "      <td>1.000000</td>\n",
       "      <td>0.000000</td>\n",
       "    </tr>\n",
       "    <tr>\n",
       "      <th>50%</th>\n",
       "      <td>4.340000e+06</td>\n",
       "      <td>4600.000000</td>\n",
       "      <td>3.000000</td>\n",
       "      <td>1.000000</td>\n",
       "      <td>2.000000</td>\n",
       "      <td>0.000000</td>\n",
       "    </tr>\n",
       "    <tr>\n",
       "      <th>75%</th>\n",
       "      <td>5.740000e+06</td>\n",
       "      <td>6360.000000</td>\n",
       "      <td>3.000000</td>\n",
       "      <td>2.000000</td>\n",
       "      <td>2.000000</td>\n",
       "      <td>1.000000</td>\n",
       "    </tr>\n",
       "    <tr>\n",
       "      <th>max</th>\n",
       "      <td>1.330000e+07</td>\n",
       "      <td>16200.000000</td>\n",
       "      <td>6.000000</td>\n",
       "      <td>4.000000</td>\n",
       "      <td>4.000000</td>\n",
       "      <td>3.000000</td>\n",
       "    </tr>\n",
       "  </tbody>\n",
       "</table>\n",
       "</div>"
      ],
      "text/plain": [
       "              price          area    bedrooms   bathrooms     stories  \\\n",
       "count  5.450000e+02    545.000000  545.000000  545.000000  545.000000   \n",
       "mean   4.766729e+06   5150.541284    2.965138    1.286239    1.805505   \n",
       "std    1.870440e+06   2170.141023    0.738064    0.502470    0.867492   \n",
       "min    1.750000e+06   1650.000000    1.000000    1.000000    1.000000   \n",
       "25%    3.430000e+06   3600.000000    2.000000    1.000000    1.000000   \n",
       "50%    4.340000e+06   4600.000000    3.000000    1.000000    2.000000   \n",
       "75%    5.740000e+06   6360.000000    3.000000    2.000000    2.000000   \n",
       "max    1.330000e+07  16200.000000    6.000000    4.000000    4.000000   \n",
       "\n",
       "          parking  \n",
       "count  545.000000  \n",
       "mean     0.693578  \n",
       "std      0.861586  \n",
       "min      0.000000  \n",
       "25%      0.000000  \n",
       "50%      0.000000  \n",
       "75%      1.000000  \n",
       "max      3.000000  "
      ]
     },
     "execution_count": 13,
     "metadata": {},
     "output_type": "execute_result"
    }
   ],
   "source": [
    "df_num.describe()"
   ]
  },
  {
   "cell_type": "code",
   "execution_count": 15,
   "id": "0518678d-1630-48ee-b4ac-63ebfc5169a8",
   "metadata": {},
   "outputs": [
    {
     "data": {
      "text/html": [
       "<div>\n",
       "<style scoped>\n",
       "    .dataframe tbody tr th:only-of-type {\n",
       "        vertical-align: middle;\n",
       "    }\n",
       "\n",
       "    .dataframe tbody tr th {\n",
       "        vertical-align: top;\n",
       "    }\n",
       "\n",
       "    .dataframe thead th {\n",
       "        text-align: right;\n",
       "    }\n",
       "</style>\n",
       "<table border=\"1\" class=\"dataframe\">\n",
       "  <thead>\n",
       "    <tr style=\"text-align: right;\">\n",
       "      <th></th>\n",
       "      <th>mainroad</th>\n",
       "      <th>guestroom</th>\n",
       "      <th>basement</th>\n",
       "      <th>hotwaterheating</th>\n",
       "      <th>airconditioning</th>\n",
       "      <th>prefarea</th>\n",
       "      <th>furnishingstatus</th>\n",
       "    </tr>\n",
       "  </thead>\n",
       "  <tbody>\n",
       "    <tr>\n",
       "      <th>count</th>\n",
       "      <td>545</td>\n",
       "      <td>545</td>\n",
       "      <td>545</td>\n",
       "      <td>545</td>\n",
       "      <td>545</td>\n",
       "      <td>545</td>\n",
       "      <td>545</td>\n",
       "    </tr>\n",
       "    <tr>\n",
       "      <th>unique</th>\n",
       "      <td>2</td>\n",
       "      <td>2</td>\n",
       "      <td>2</td>\n",
       "      <td>2</td>\n",
       "      <td>2</td>\n",
       "      <td>2</td>\n",
       "      <td>3</td>\n",
       "    </tr>\n",
       "    <tr>\n",
       "      <th>top</th>\n",
       "      <td>yes</td>\n",
       "      <td>no</td>\n",
       "      <td>no</td>\n",
       "      <td>no</td>\n",
       "      <td>no</td>\n",
       "      <td>no</td>\n",
       "      <td>semi-furnished</td>\n",
       "    </tr>\n",
       "    <tr>\n",
       "      <th>freq</th>\n",
       "      <td>468</td>\n",
       "      <td>448</td>\n",
       "      <td>354</td>\n",
       "      <td>520</td>\n",
       "      <td>373</td>\n",
       "      <td>417</td>\n",
       "      <td>227</td>\n",
       "    </tr>\n",
       "  </tbody>\n",
       "</table>\n",
       "</div>"
      ],
      "text/plain": [
       "       mainroad guestroom basement hotwaterheating airconditioning prefarea  \\\n",
       "count       545       545      545             545             545      545   \n",
       "unique        2         2        2               2               2        2   \n",
       "top         yes        no       no              no              no       no   \n",
       "freq        468       448      354             520             373      417   \n",
       "\n",
       "       furnishingstatus  \n",
       "count               545  \n",
       "unique                3  \n",
       "top      semi-furnished  \n",
       "freq                227  "
      ]
     },
     "execution_count": 15,
     "metadata": {},
     "output_type": "execute_result"
    }
   ],
   "source": [
    "df_cat.describe()"
   ]
  },
  {
   "cell_type": "code",
   "execution_count": 17,
   "id": "37133ca0-3e11-4187-bac9-64596b6f9d5e",
   "metadata": {},
   "outputs": [
    {
     "data": {
      "text/plain": [
       "price        0\n",
       "area         0\n",
       "bedrooms     0\n",
       "bathrooms    0\n",
       "stories      0\n",
       "parking      0\n",
       "dtype: int64"
      ]
     },
     "execution_count": 17,
     "metadata": {},
     "output_type": "execute_result"
    }
   ],
   "source": [
    "df_num.isna().sum()"
   ]
  },
  {
   "cell_type": "code",
   "execution_count": 19,
   "id": "d2ab8c22-9451-4779-8f3d-f14bd3d4a97a",
   "metadata": {},
   "outputs": [
    {
     "data": {
      "text/plain": [
       "mainroad            0\n",
       "guestroom           0\n",
       "basement            0\n",
       "hotwaterheating     0\n",
       "airconditioning     0\n",
       "prefarea            0\n",
       "furnishingstatus    0\n",
       "dtype: int64"
      ]
     },
     "execution_count": 19,
     "metadata": {},
     "output_type": "execute_result"
    }
   ],
   "source": [
    "df_cat.isna().sum()"
   ]
  },
  {
   "cell_type": "code",
   "execution_count": 25,
   "id": "183023ac-dc6e-4c4d-8fb0-c1cbc6b16180",
   "metadata": {},
   "outputs": [
    {
     "name": "stdout",
     "output_type": "stream",
     "text": [
      "--------------------\n",
      "mainroad\n",
      "yes    468\n",
      "no      77\n",
      "Name: count, dtype: int64\n",
      "--------------------\n",
      "guestroom\n",
      "no     448\n",
      "yes     97\n",
      "Name: count, dtype: int64\n",
      "--------------------\n",
      "basement\n",
      "no     354\n",
      "yes    191\n",
      "Name: count, dtype: int64\n",
      "--------------------\n",
      "hotwaterheating\n",
      "no     520\n",
      "yes     25\n",
      "Name: count, dtype: int64\n",
      "--------------------\n",
      "airconditioning\n",
      "no     373\n",
      "yes    172\n",
      "Name: count, dtype: int64\n",
      "--------------------\n",
      "prefarea\n",
      "no     417\n",
      "yes    128\n",
      "Name: count, dtype: int64\n",
      "--------------------\n",
      "furnishingstatus\n",
      "semi-furnished    227\n",
      "unfurnished       178\n",
      "furnished         140\n",
      "Name: count, dtype: int64\n"
     ]
    }
   ],
   "source": [
    "for col in df_cat.columns:\n",
    "    print(\"-\"*20)\n",
    "    print(df_cat[col].value_counts())"
   ]
  },
  {
   "cell_type": "code",
   "execution_count": 77,
   "id": "edce8ed4-2654-4730-8adf-90f8e93253cf",
   "metadata": {},
   "outputs": [
    {
     "data": {
      "image/png": "[encoded data removed]",
      "text/plain": [
       "<Figure size 1200x1000 with 6 Axes>"
      ]
     },
     "metadata": {},
     "output_type": "display_data"
    }
   ],
   "source": [
    "fig,ax =plt.subplots(2,3,figsize=(12,10))\n",
    "plt.title(\"Categorical Value Plot\")\n",
    "\n",
    "for pos,col in enumerate(df_cat.columns[1:]):\n",
    "    #print(pos%2,pos%3)\n",
    "    ax[pos%2,pos%3].set_title(f\"{col}\")\n",
    "    data = df_cat[col].value_counts().reset_index()\n",
    "    ax[pos%2,pos%3].bar(data.iloc[:,0],data.iloc[:,1])\n",
    "\n",
    "plt.tight_layout()"
   ]
  },
  {
   "cell_type": "code",
   "execution_count": 41,
   "id": "f4adc3ce-70b9-4afe-80dd-242bcad4bd7b",
   "metadata": {},
   "outputs": [
    {
     "data": {
      "text/plain": [
       "Text(0.5, 1.0, 'Correlation HeatMap')"
      ]
     },
     "execution_count": 41,
     "metadata": {},
     "output_type": "execute_result"
    },
    {
     "data": {
      "image/png": "[encoded data removed]",
      "text/plain": [
       "<Figure size 1500x1500 with 2 Axes>"
      ]
     },
     "metadata": {},
     "output_type": "display_data"
    }
   ],
   "source": [
    "plt.figure(figsize=(15,15))\n",
    "sns.heatmap(df_num.corr(method=\"spearman\"), annot= True, fmt=\"0.2\")\n",
    "plt.title(\"Correlation HeatMap\")\n"
   ]
  },
  {
   "cell_type": "code",
   "execution_count": 98,
   "id": "c3d0f6ab-b95a-481f-afcc-1a9bedb9510b",
   "metadata": {},
   "outputs": [],
   "source": [
    "furnish_group = df.groupby(\"furnishingstatus\")"
   ]
  },
  {
   "cell_type": "code",
   "execution_count": 112,
   "id": "096c7e1b-8dcc-42c1-a3ea-3058f2835532",
   "metadata": {},
   "outputs": [
    {
     "data": {
      "text/plain": [
       "<Axes: xlabel='furnishingstatus'>"
      ]
     },
     "execution_count": 112,
     "metadata": {},
     "output_type": "execute_result"
    },
    {
     "data": {
      "image/png": "[encoded data removed]",
      "text/plain": [
       "<Figure size 640x480 with 1 Axes>"
      ]
     },
     "metadata": {},
     "output_type": "display_data"
    }
   ],
   "source": [
    "data = furnish_group[\"price\"].mean().round(2)\n",
    "fig,axs = plt.subplots()\n",
    "data.plot(kind=\"bar\")"
   ]
  },
  {
   "cell_type": "code",
   "execution_count": 114,
   "id": "8cf52911-8cfa-46f2-9f6f-7bd664a58cd6",
   "metadata": {
    "scrolled": true
   },
   "outputs": [
    {
     "data": {
      "text/html": [
       "<div>\n",
       "<style scoped>\n",
       "    .dataframe tbody tr th:only-of-type {\n",
       "        vertical-align: middle;\n",
       "    }\n",
       "\n",
       "    .dataframe tbody tr th {\n",
       "        vertical-align: top;\n",
       "    }\n",
       "\n",
       "    .dataframe thead th {\n",
       "        text-align: right;\n",
       "    }\n",
       "</style>\n",
       "<table border=\"1\" class=\"dataframe\">\n",
       "  <thead>\n",
       "    <tr style=\"text-align: right;\">\n",
       "      <th></th>\n",
       "      <th>area</th>\n",
       "      <th>bedrooms</th>\n",
       "      <th>bathrooms</th>\n",
       "      <th>stories</th>\n",
       "      <th>parking</th>\n",
       "    </tr>\n",
       "    <tr>\n",
       "      <th>furnishingstatus</th>\n",
       "      <th></th>\n",
       "      <th></th>\n",
       "      <th></th>\n",
       "      <th></th>\n",
       "      <th></th>\n",
       "    </tr>\n",
       "  </thead>\n",
       "  <tbody>\n",
       "    <tr>\n",
       "      <th>furnished</th>\n",
       "      <td>5688.10</td>\n",
       "      <td>3.06</td>\n",
       "      <td>1.38</td>\n",
       "      <td>1.94</td>\n",
       "      <td>0.89</td>\n",
       "    </tr>\n",
       "    <tr>\n",
       "      <th>semi-furnished</th>\n",
       "      <td>5166.34</td>\n",
       "      <td>3.01</td>\n",
       "      <td>1.30</td>\n",
       "      <td>1.80</td>\n",
       "      <td>0.74</td>\n",
       "    </tr>\n",
       "    <tr>\n",
       "      <th>unfurnished</th>\n",
       "      <td>4707.60</td>\n",
       "      <td>2.83</td>\n",
       "      <td>1.19</td>\n",
       "      <td>1.70</td>\n",
       "      <td>0.49</td>\n",
       "    </tr>\n",
       "  </tbody>\n",
       "</table>\n",
       "</div>"
      ],
      "text/plain": [
       "                     area  bedrooms  bathrooms  stories  parking\n",
       "furnishingstatus                                                \n",
       "furnished         5688.10      3.06       1.38     1.94     0.89\n",
       "semi-furnished    5166.34      3.01       1.30     1.80     0.74\n",
       "unfurnished       4707.60      2.83       1.19     1.70     0.49"
      ]
     },
     "execution_count": 114,
     "metadata": {},
     "output_type": "execute_result"
    }
   ],
   "source": [
    "data = furnish_group[['area', 'bedrooms', 'bathrooms', 'stories', 'parking']].mean().round(2)\n",
    "#fig,axs = plt.subplots()\n",
    "data"
   ]
  },
  {
   "cell_type": "markdown",
   "id": "5a49fefd-b909-425a-8d56-686ad415dd0d",
   "metadata": {},
   "source": [
    "### Splitting Test Train Data"
   ]
  },
  {
   "cell_type": "code",
   "execution_count": 84,
   "id": "266448a5-705b-4329-8ab7-9ba37f660d5a",
   "metadata": {},
   "outputs": [
    {
     "data": {
      "text/plain": [
       "((436, 12), (109, 12))"
      ]
     },
     "execution_count": 84,
     "metadata": {},
     "output_type": "execute_result"
    }
   ],
   "source": [
    "X = df.drop(columns=\"price\")\n",
    "y = df[\"price\"]\n",
    "\n",
    "X_train,X_test,y_train,y_test = train_test_split(X,y,test_size=0.2,random_state=42)\n",
    "X_train.shape, X_test.shape"
   ]
  },
  {
   "cell_type": "markdown",
   "id": "31051982-b4b1-4a8a-8ee9-9daa56eed34a",
   "metadata": {},
   "source": [
    "### Creating ColumnTransformer"
   ]
  },
  {
   "cell_type": "code",
   "execution_count": 93,
   "id": "71507dba-1a5a-4821-a42f-0009aba87f09",
   "metadata": {},
   "outputs": [
    {
     "data": {
      "text/plain": [
       "(Index(['mainroad', 'guestroom', 'basement', 'hotwaterheating',\n",
       "        'airconditioning', 'prefarea', 'furnishingstatus'],\n",
       "       dtype='object'),\n",
       " Index(['area', 'bedrooms', 'bathrooms', 'stories', 'parking'], dtype='object'))"
      ]
     },
     "execution_count": 93,
     "metadata": {},
     "output_type": "execute_result"
    }
   ],
   "source": [
    "cat_col = df_cat.columns\n",
    "num_col = df_num.columns.drop(\"price\")\n",
    "cat_col,num_col"
   ]
  },
  {
   "cell_type": "code",
   "execution_count": 140,
   "id": "430afaa8-c513-47d5-9165-3079a04c2793",
   "metadata": {},
   "outputs": [],
   "source": [
    "# Creatinng Preprocessing Unit\n",
    "preprocessing = ColumnTransformer([\n",
    "    (\"cat\",OneHotEncoder(drop=\"first\"),cat_col),\n",
    "    (\"num\",MinMaxScaler(),num_col)\n",
    "],remainder=\"drop\")"
   ]
  },
  {
   "cell_type": "markdown",
   "id": "c5863f1c-78a3-4046-a260-ddf75e8cde77",
   "metadata": {},
   "source": [
    "### Appling VIF and OLS to Select Feature"
   ]
  },
  {
   "cell_type": "code",
   "execution_count": 218,
   "id": "b3a8da49-b24e-4153-b8cc-e0aa939984ba",
   "metadata": {},
   "outputs": [],
   "source": [
    "import statsmodels.api as sm\n",
    "from statsmodels.stats.outliers_influence import variance_inflation_factor"
   ]
  },
  {
   "cell_type": "code",
   "execution_count": 230,
   "id": "cb0bb0bc-6e3b-48cf-9336-08e1f5de9c92",
   "metadata": {},
   "outputs": [
    {
     "data": {
      "text/html": [
       "<div>\n",
       "<style scoped>\n",
       "    .dataframe tbody tr th:only-of-type {\n",
       "        vertical-align: middle;\n",
       "    }\n",
       "\n",
       "    .dataframe tbody tr th {\n",
       "        vertical-align: top;\n",
       "    }\n",
       "\n",
       "    .dataframe thead th {\n",
       "        text-align: right;\n",
       "    }\n",
       "</style>\n",
       "<table border=\"1\" class=\"dataframe\">\n",
       "  <thead>\n",
       "    <tr style=\"text-align: right;\">\n",
       "      <th></th>\n",
       "      <th>cat__mainroad_yes</th>\n",
       "      <th>cat__guestroom_yes</th>\n",
       "      <th>cat__basement_yes</th>\n",
       "      <th>cat__hotwaterheating_yes</th>\n",
       "      <th>cat__airconditioning_yes</th>\n",
       "      <th>cat__prefarea_yes</th>\n",
       "      <th>cat__furnishingstatus_semi-furnished</th>\n",
       "      <th>cat__furnishingstatus_unfurnished</th>\n",
       "      <th>num__area</th>\n",
       "      <th>num__bedrooms</th>\n",
       "      <th>num__bathrooms</th>\n",
       "      <th>num__stories</th>\n",
       "      <th>num__parking</th>\n",
       "    </tr>\n",
       "  </thead>\n",
       "  <tbody>\n",
       "    <tr>\n",
       "      <th>134</th>\n",
       "      <td>1.0</td>\n",
       "      <td>0.0</td>\n",
       "      <td>1.0</td>\n",
       "      <td>0.0</td>\n",
       "      <td>0.0</td>\n",
       "      <td>1.0</td>\n",
       "      <td>1.0</td>\n",
       "      <td>0.0</td>\n",
       "      <td>0.367698</td>\n",
       "      <td>0.4</td>\n",
       "      <td>0.000000</td>\n",
       "      <td>0.0</td>\n",
       "      <td>0.666667</td>\n",
       "    </tr>\n",
       "    <tr>\n",
       "      <th>92</th>\n",
       "      <td>1.0</td>\n",
       "      <td>1.0</td>\n",
       "      <td>0.0</td>\n",
       "      <td>0.0</td>\n",
       "      <td>1.0</td>\n",
       "      <td>0.0</td>\n",
       "      <td>0.0</td>\n",
       "      <td>0.0</td>\n",
       "      <td>0.216495</td>\n",
       "      <td>0.4</td>\n",
       "      <td>0.333333</td>\n",
       "      <td>1.0</td>\n",
       "      <td>0.000000</td>\n",
       "    </tr>\n",
       "  </tbody>\n",
       "</table>\n",
       "</div>"
      ],
      "text/plain": [
       "     cat__mainroad_yes  cat__guestroom_yes  cat__basement_yes  \\\n",
       "134                1.0                 0.0                1.0   \n",
       "92                 1.0                 1.0                0.0   \n",
       "\n",
       "     cat__hotwaterheating_yes  cat__airconditioning_yes  cat__prefarea_yes  \\\n",
       "134                       0.0                       0.0                1.0   \n",
       "92                        0.0                       1.0                0.0   \n",
       "\n",
       "     cat__furnishingstatus_semi-furnished  cat__furnishingstatus_unfurnished  \\\n",
       "134                                   1.0                                0.0   \n",
       "92                                    0.0                                0.0   \n",
       "\n",
       "     num__area  num__bedrooms  num__bathrooms  num__stories  num__parking  \n",
       "134   0.367698            0.4        0.000000           0.0      0.666667  \n",
       "92    0.216495            0.4        0.333333           1.0      0.000000  "
      ]
     },
     "execution_count": 230,
     "metadata": {},
     "output_type": "execute_result"
    }
   ],
   "source": [
    "# PreProcessing X_train to Get neumeric value\n",
    "X_train_preprocess = preprocessing.fit_transform(X_train)\n",
    "X_train_preprocess = pd.DataFrame(data=X_train_preprocess,columns=preprocessing.get_feature_names_out(),index=y_train.index)\n",
    "X_train_preprocess.sample(2)"
   ]
  },
  {
   "cell_type": "code",
   "execution_count": 232,
   "id": "4675c9ac-dd4b-403b-842b-c62cf05ff788",
   "metadata": {
    "scrolled": true
   },
   "outputs": [
    {
     "data": {
      "text/plain": [
       "cat__mainroad_yes                       0\n",
       "cat__guestroom_yes                      0\n",
       "cat__basement_yes                       0\n",
       "cat__hotwaterheating_yes                0\n",
       "cat__airconditioning_yes                0\n",
       "cat__prefarea_yes                       0\n",
       "cat__furnishingstatus_semi-furnished    0\n",
       "cat__furnishingstatus_unfurnished       0\n",
       "num__area                               0\n",
       "num__bedrooms                           0\n",
       "num__bathrooms                          0\n",
       "num__stories                            0\n",
       "num__parking                            0\n",
       "dtype: int64"
      ]
     },
     "execution_count": 232,
     "metadata": {},
     "output_type": "execute_result"
    }
   ],
   "source": [
    "X_train_preprocess.isnull().sum()"
   ]
  },
  {
   "cell_type": "code",
   "execution_count": 234,
   "id": "fd1a5e08-f784-4091-994b-f62a52acf7be",
   "metadata": {},
   "outputs": [
    {
     "data": {
      "text/plain": [
       "((436, 13), (436,))"
      ]
     },
     "execution_count": 234,
     "metadata": {},
     "output_type": "execute_result"
    }
   ],
   "source": [
    "X_train_preprocess.shape,y_train.shape"
   ]
  },
  {
   "cell_type": "code",
   "execution_count": 236,
   "id": "6e82ecb7-1679-4eab-8c5c-6e69f5974bb4",
   "metadata": {},
   "outputs": [
    {
     "data": {
      "text/plain": [
       "0"
      ]
     },
     "execution_count": 236,
     "metadata": {},
     "output_type": "execute_result"
    }
   ],
   "source": [
    "y_train.isnull().sum()"
   ]
  },
  {
   "cell_type": "code",
   "execution_count": 238,
   "id": "7a11ce9d-e097-455f-8035-a1d02b07eb93",
   "metadata": {},
   "outputs": [
    {
     "data": {
      "text/plain": [
       "(436, 14)"
      ]
     },
     "execution_count": 238,
     "metadata": {},
     "output_type": "execute_result"
    }
   ],
   "source": [
    "# Adding Contant columns\n",
    "X_train_ols = sm.add_constant(X_train_preprocess)\n",
    "X_train_ols.shape"
   ]
  },
  {
   "cell_type": "code",
   "execution_count": 240,
   "id": "3e72cf37-fcfd-4b16-ba9c-093330b3f1a5",
   "metadata": {},
   "outputs": [
    {
     "data": {
      "text/html": [
       "<table class=\"simpletable\">\n",
       "<caption>OLS Regression Results</caption>\n",
       "<tr>\n",
       "  <th>Dep. Variable:</th>          <td>price</td>      <th>  R-squared:         </th> <td>   0.686</td> \n",
       "</tr>\n",
       "<tr>\n",
       "  <th>Model:</th>                   <td>OLS</td>       <th>  Adj. R-squared:    </th> <td>   0.676</td> \n",
       "</tr>\n",
       "<tr>\n",
       "  <th>Method:</th>             <td>Least Squares</td>  <th>  F-statistic:       </th> <td>   70.90</td> \n",
       "</tr>\n",
       "<tr>\n",
       "  <th>Date:</th>             <td>Wed, 20 Nov 2024</td> <th>  Prob (F-statistic):</th> <td>2.16e-97</td> \n",
       "</tr>\n",
       "<tr>\n",
       "  <th>Time:</th>                 <td>14:19:04</td>     <th>  Log-Likelihood:    </th> <td> -6635.2</td> \n",
       "</tr>\n",
       "<tr>\n",
       "  <th>No. Observations:</th>      <td>   436</td>      <th>  AIC:               </th> <td>1.330e+04</td>\n",
       "</tr>\n",
       "<tr>\n",
       "  <th>Df Residuals:</th>          <td>   422</td>      <th>  BIC:               </th> <td>1.336e+04</td>\n",
       "</tr>\n",
       "<tr>\n",
       "  <th>Df Model:</th>              <td>    13</td>      <th>                     </th>     <td> </td>    \n",
       "</tr>\n",
       "<tr>\n",
       "  <th>Covariance Type:</th>      <td>nonrobust</td>    <th>                     </th>     <td> </td>    \n",
       "</tr>\n",
       "</table>\n",
       "<table class=\"simpletable\">\n",
       "<tr>\n",
       "                    <td></td>                      <th>coef</th>     <th>std err</th>      <th>t</th>      <th>P>|t|</th>  <th>[0.025</th>    <th>0.975]</th>  \n",
       "</tr>\n",
       "<tr>\n",
       "  <th>const</th>                                <td> 2.228e+06</td> <td> 2.18e+05</td> <td>   10.206</td> <td> 0.000</td> <td>  1.8e+06</td> <td> 2.66e+06</td>\n",
       "</tr>\n",
       "<tr>\n",
       "  <th>cat__mainroad_yes</th>                    <td> 3.679e+05</td> <td> 1.49e+05</td> <td>    2.464</td> <td> 0.014</td> <td> 7.44e+04</td> <td> 6.61e+05</td>\n",
       "</tr>\n",
       "<tr>\n",
       "  <th>cat__guestroom_yes</th>                   <td> 2.316e+05</td> <td> 1.41e+05</td> <td>    1.648</td> <td> 0.100</td> <td>-4.47e+04</td> <td> 5.08e+05</td>\n",
       "</tr>\n",
       "<tr>\n",
       "  <th>cat__basement_yes</th>                    <td> 3.903e+05</td> <td> 1.18e+05</td> <td>    3.320</td> <td> 0.001</td> <td> 1.59e+05</td> <td> 6.21e+05</td>\n",
       "</tr>\n",
       "<tr>\n",
       "  <th>cat__hotwaterheating_yes</th>             <td> 6.846e+05</td> <td> 2.23e+05</td> <td>    3.070</td> <td> 0.002</td> <td> 2.46e+05</td> <td> 1.12e+06</td>\n",
       "</tr>\n",
       "<tr>\n",
       "  <th>cat__airconditioning_yes</th>             <td> 7.914e+05</td> <td> 1.17e+05</td> <td>    6.772</td> <td> 0.000</td> <td> 5.62e+05</td> <td> 1.02e+06</td>\n",
       "</tr>\n",
       "<tr>\n",
       "  <th>cat__prefarea_yes</th>                    <td> 6.299e+05</td> <td> 1.21e+05</td> <td>    5.205</td> <td> 0.000</td> <td> 3.92e+05</td> <td> 8.68e+05</td>\n",
       "</tr>\n",
       "<tr>\n",
       "  <th>cat__furnishingstatus_semi-furnished</th> <td>-1.269e+05</td> <td> 1.22e+05</td> <td>   -1.041</td> <td> 0.299</td> <td>-3.66e+05</td> <td> 1.13e+05</td>\n",
       "</tr>\n",
       "<tr>\n",
       "  <th>cat__furnishingstatus_unfurnished</th>    <td>-4.136e+05</td> <td> 1.34e+05</td> <td>   -3.077</td> <td> 0.002</td> <td>-6.78e+05</td> <td>-1.49e+05</td>\n",
       "</tr>\n",
       "<tr>\n",
       "  <th>num__area</th>                            <td> 3.433e+06</td> <td> 3.62e+05</td> <td>    9.476</td> <td> 0.000</td> <td> 2.72e+06</td> <td> 4.15e+06</td>\n",
       "</tr>\n",
       "<tr>\n",
       "  <th>num__bedrooms</th>                        <td> 3.839e+05</td> <td> 3.77e+05</td> <td>    1.018</td> <td> 0.309</td> <td>-3.57e+05</td> <td> 1.12e+06</td>\n",
       "</tr>\n",
       "<tr>\n",
       "  <th>num__bathrooms</th>                       <td> 3.283e+06</td> <td> 3.43e+05</td> <td>    9.564</td> <td> 0.000</td> <td> 2.61e+06</td> <td> 3.96e+06</td>\n",
       "</tr>\n",
       "<tr>\n",
       "  <th>num__stories</th>                         <td> 1.222e+06</td> <td> 2.07e+05</td> <td>    5.919</td> <td> 0.000</td> <td> 8.16e+05</td> <td> 1.63e+06</td>\n",
       "</tr>\n",
       "<tr>\n",
       "  <th>num__parking</th>                         <td> 6.745e+05</td> <td> 1.85e+05</td> <td>    3.639</td> <td> 0.000</td> <td>  3.1e+05</td> <td> 1.04e+06</td>\n",
       "</tr>\n",
       "</table>\n",
       "<table class=\"simpletable\">\n",
       "<tr>\n",
       "  <th>Omnibus:</th>       <td>74.015</td> <th>  Durbin-Watson:     </th> <td>   1.890</td>\n",
       "</tr>\n",
       "<tr>\n",
       "  <th>Prob(Omnibus):</th> <td> 0.000</td> <th>  Jarque-Bera (JB):  </th> <td> 191.938</td>\n",
       "</tr>\n",
       "<tr>\n",
       "  <th>Skew:</th>          <td> 0.833</td> <th>  Prob(JB):          </th> <td>2.10e-42</td>\n",
       "</tr>\n",
       "<tr>\n",
       "  <th>Kurtosis:</th>      <td> 5.791</td> <th>  Cond. No.          </th> <td>    14.8</td>\n",
       "</tr>\n",
       "</table><br/><br/>Notes:<br/>[1] Standard Errors assume that the covariance matrix of the errors is correctly specified."
      ],
      "text/latex": [
       "\\begin{center}\n",
       "\\begin{tabular}{lclc}\n",
       "\\toprule\n",
       "\\textbf{Dep. Variable:}                          &      price       & \\textbf{  R-squared:         } &     0.686   \\\\\n",
       "\\textbf{Model:}                                  &       OLS        & \\textbf{  Adj. R-squared:    } &     0.676   \\\\\n",
       "\\textbf{Method:}                                 &  Least Squares   & \\textbf{  F-statistic:       } &     70.90   \\\\\n",
       "\\textbf{Date:}                                   & Wed, 20 Nov 2024 & \\textbf{  Prob (F-statistic):} &  2.16e-97   \\\\\n",
       "\\textbf{Time:}                                   &     14:19:04     & \\textbf{  Log-Likelihood:    } &   -6635.2   \\\\\n",
       "\\textbf{No. Observations:}                       &         436      & \\textbf{  AIC:               } & 1.330e+04   \\\\\n",
       "\\textbf{Df Residuals:}                           &         422      & \\textbf{  BIC:               } & 1.336e+04   \\\\\n",
       "\\textbf{Df Model:}                               &          13      & \\textbf{                     } &             \\\\\n",
       "\\textbf{Covariance Type:}                        &    nonrobust     & \\textbf{                     } &             \\\\\n",
       "\\bottomrule\n",
       "\\end{tabular}\n",
       "\\begin{tabular}{lcccccc}\n",
       "                                                 & \\textbf{coef} & \\textbf{std err} & \\textbf{t} & \\textbf{P$> |$t$|$} & \\textbf{[0.025} & \\textbf{0.975]}  \\\\\n",
       "\\midrule\n",
       "\\textbf{const}                                   &    2.228e+06  &     2.18e+05     &    10.206  &         0.000        &      1.8e+06    &     2.66e+06     \\\\\n",
       "\\textbf{cat\\_\\_mainroad\\_yes}                    &    3.679e+05  &     1.49e+05     &     2.464  &         0.014        &     7.44e+04    &     6.61e+05     \\\\\n",
       "\\textbf{cat\\_\\_guestroom\\_yes}                   &    2.316e+05  &     1.41e+05     &     1.648  &         0.100        &    -4.47e+04    &     5.08e+05     \\\\\n",
       "\\textbf{cat\\_\\_basement\\_yes}                    &    3.903e+05  &     1.18e+05     &     3.320  &         0.001        &     1.59e+05    &     6.21e+05     \\\\\n",
       "\\textbf{cat\\_\\_hotwaterheating\\_yes}             &    6.846e+05  &     2.23e+05     &     3.070  &         0.002        &     2.46e+05    &     1.12e+06     \\\\\n",
       "\\textbf{cat\\_\\_airconditioning\\_yes}             &    7.914e+05  &     1.17e+05     &     6.772  &         0.000        &     5.62e+05    &     1.02e+06     \\\\\n",
       "\\textbf{cat\\_\\_prefarea\\_yes}                    &    6.299e+05  &     1.21e+05     &     5.205  &         0.000        &     3.92e+05    &     8.68e+05     \\\\\n",
       "\\textbf{cat\\_\\_furnishingstatus\\_semi-furnished} &   -1.269e+05  &     1.22e+05     &    -1.041  &         0.299        &    -3.66e+05    &     1.13e+05     \\\\\n",
       "\\textbf{cat\\_\\_furnishingstatus\\_unfurnished}    &   -4.136e+05  &     1.34e+05     &    -3.077  &         0.002        &    -6.78e+05    &    -1.49e+05     \\\\\n",
       "\\textbf{num\\_\\_area}                             &    3.433e+06  &     3.62e+05     &     9.476  &         0.000        &     2.72e+06    &     4.15e+06     \\\\\n",
       "\\textbf{num\\_\\_bedrooms}                         &    3.839e+05  &     3.77e+05     &     1.018  &         0.309        &    -3.57e+05    &     1.12e+06     \\\\\n",
       "\\textbf{num\\_\\_bathrooms}                        &    3.283e+06  &     3.43e+05     &     9.564  &         0.000        &     2.61e+06    &     3.96e+06     \\\\\n",
       "\\textbf{num\\_\\_stories}                          &    1.222e+06  &     2.07e+05     &     5.919  &         0.000        &     8.16e+05    &     1.63e+06     \\\\\n",
       "\\textbf{num\\_\\_parking}                          &    6.745e+05  &     1.85e+05     &     3.639  &         0.000        &      3.1e+05    &     1.04e+06     \\\\\n",
       "\\bottomrule\n",
       "\\end{tabular}\n",
       "\\begin{tabular}{lclc}\n",
       "\\textbf{Omnibus:}       & 74.015 & \\textbf{  Durbin-Watson:     } &    1.890  \\\\\n",
       "\\textbf{Prob(Omnibus):} &  0.000 & \\textbf{  Jarque-Bera (JB):  } &  191.938  \\\\\n",
       "\\textbf{Skew:}          &  0.833 & \\textbf{  Prob(JB):          } & 2.10e-42  \\\\\n",
       "\\textbf{Kurtosis:}      &  5.791 & \\textbf{  Cond. No.          } &     14.8  \\\\\n",
       "\\bottomrule\n",
       "\\end{tabular}\n",
       "%\\caption{OLS Regression Results}\n",
       "\\end{center}\n",
       "\n",
       "Notes: \\newline\n",
       " [1] Standard Errors assume that the covariance matrix of the errors is correctly specified."
      ],
      "text/plain": [
       "<class 'statsmodels.iolib.summary.Summary'>\n",
       "\"\"\"\n",
       "                            OLS Regression Results                            \n",
       "==============================================================================\n",
       "Dep. Variable:                  price   R-squared:                       0.686\n",
       "Model:                            OLS   Adj. R-squared:                  0.676\n",
       "Method:                 Least Squares   F-statistic:                     70.90\n",
       "Date:                Wed, 20 Nov 2024   Prob (F-statistic):           2.16e-97\n",
       "Time:                        14:19:04   Log-Likelihood:                -6635.2\n",
       "No. Observations:                 436   AIC:                         1.330e+04\n",
       "Df Residuals:                     422   BIC:                         1.336e+04\n",
       "Df Model:                          13                                         \n",
       "Covariance Type:            nonrobust                                         \n",
       "========================================================================================================\n",
       "                                           coef    std err          t      P>|t|      [0.025      0.975]\n",
       "--------------------------------------------------------------------------------------------------------\n",
       "const                                 2.228e+06   2.18e+05     10.206      0.000     1.8e+06    2.66e+06\n",
       "cat__mainroad_yes                     3.679e+05   1.49e+05      2.464      0.014    7.44e+04    6.61e+05\n",
       "cat__guestroom_yes                    2.316e+05   1.41e+05      1.648      0.100   -4.47e+04    5.08e+05\n",
       "cat__basement_yes                     3.903e+05   1.18e+05      3.320      0.001    1.59e+05    6.21e+05\n",
       "cat__hotwaterheating_yes              6.846e+05   2.23e+05      3.070      0.002    2.46e+05    1.12e+06\n",
       "cat__airconditioning_yes              7.914e+05   1.17e+05      6.772      0.000    5.62e+05    1.02e+06\n",
       "cat__prefarea_yes                     6.299e+05   1.21e+05      5.205      0.000    3.92e+05    8.68e+05\n",
       "cat__furnishingstatus_semi-furnished -1.269e+05   1.22e+05     -1.041      0.299   -3.66e+05    1.13e+05\n",
       "cat__furnishingstatus_unfurnished    -4.136e+05   1.34e+05     -3.077      0.002   -6.78e+05   -1.49e+05\n",
       "num__area                             3.433e+06   3.62e+05      9.476      0.000    2.72e+06    4.15e+06\n",
       "num__bedrooms                         3.839e+05   3.77e+05      1.018      0.309   -3.57e+05    1.12e+06\n",
       "num__bathrooms                        3.283e+06   3.43e+05      9.564      0.000    2.61e+06    3.96e+06\n",
       "num__stories                          1.222e+06   2.07e+05      5.919      0.000    8.16e+05    1.63e+06\n",
       "num__parking                          6.745e+05   1.85e+05      3.639      0.000     3.1e+05    1.04e+06\n",
       "==============================================================================\n",
       "Omnibus:                       74.015   Durbin-Watson:                   1.890\n",
       "Prob(Omnibus):                  0.000   Jarque-Bera (JB):              191.938\n",
       "Skew:                           0.833   Prob(JB):                     2.10e-42\n",
       "Kurtosis:                       5.791   Cond. No.                         14.8\n",
       "==============================================================================\n",
       "\n",
       "Notes:\n",
       "[1] Standard Errors assume that the covariance matrix of the errors is correctly specified.\n",
       "\"\"\""
      ]
     },
     "execution_count": 240,
     "metadata": {},
     "output_type": "execute_result"
    }
   ],
   "source": [
    "model = sm.OLS(y_train,X_train_ols).fit()\n",
    "model.summary()"
   ]
  },
  {
   "cell_type": "code",
   "execution_count": 220,
   "id": "8864cf89-a9b6-4cba-a893-8ac5f3c4c6e0",
   "metadata": {},
   "outputs": [],
   "source": [
    "def calculate_vif(X):\n",
    "    vif = pd.DataFrame()\n",
    "    vif[\"Features\"] = X.columns\n",
    "    vif['VIF'] = [variance_inflation_factor(X.values, i) for i in range(X.shape[1])]\n",
    "    return vif"
   ]
  },
  {
   "cell_type": "code",
   "execution_count": 222,
   "id": "a7574baf-aa8b-4ae1-8588-2a500fe29995",
   "metadata": {
    "scrolled": true
   },
   "outputs": [
    {
     "name": "stdout",
     "output_type": "stream",
     "text": [
      "                                Features        VIF\n",
      "0                                  const  20.769792\n",
      "1                      cat__mainroad_yes   1.184966\n",
      "2                     cat__guestroom_yes   1.265105\n",
      "3                      cat__basement_yes   1.383581\n",
      "4               cat__hotwaterheating_yes   1.038531\n",
      "5               cat__airconditioning_yes   1.266899\n",
      "6                      cat__prefarea_yes   1.143805\n",
      "7   cat__furnishingstatus_semi-furnished   1.588370\n",
      "8      cat__furnishingstatus_unfurnished   1.697063\n",
      "9                              num__area   1.310142\n",
      "10                         num__bedrooms   1.381722\n",
      "11                        num__bathrooms   1.297536\n",
      "12                          num__stories   1.517120\n",
      "13                          num__parking   1.213513\n"
     ]
    }
   ],
   "source": [
    "vif = calculate_vif(X_train_ols)\n",
    "print(vif)"
   ]
  },
  {
   "cell_type": "code",
   "execution_count": 224,
   "id": "133d51e1-3604-4bdd-913e-b5ebab1ac018",
   "metadata": {},
   "outputs": [
    {
     "name": "stdout",
     "output_type": "stream",
     "text": [
      "                                Features       VIF\n",
      "0                      cat__mainroad_yes  5.942763\n",
      "1                     cat__guestroom_yes  1.539596\n",
      "2                      cat__basement_yes  2.110493\n",
      "3               cat__hotwaterheating_yes  1.089386\n",
      "4               cat__airconditioning_yes  1.827845\n",
      "5                      cat__prefarea_yes  1.484864\n",
      "6   cat__furnishingstatus_semi-furnished  2.268901\n",
      "7      cat__furnishingstatus_unfurnished  1.872205\n",
      "8                              num__area  4.507904\n",
      "9                          num__bedrooms  7.717033\n",
      "10                        num__bathrooms  1.669702\n",
      "11                          num__stories  2.780181\n",
      "12                          num__parking  1.995453\n"
     ]
    }
   ],
   "source": [
    "vif = calculate_vif(X_train_preprocess)\n",
    "print(vif)"
   ]
  },
  {
   "cell_type": "markdown",
   "id": "dd92ed0d-32c8-4195-ab82-9942fb3b5e99",
   "metadata": {},
   "source": [
    "### Model Selection"
   ]
  },
  {
   "cell_type": "code",
   "execution_count": 160,
   "id": "bd1605e7-49e3-4de6-aed9-1867f2d8c8ac",
   "metadata": {},
   "outputs": [],
   "source": [
    "# Models \n",
    "models = {\n",
    "    \"Ridge\" : Ridge(), \n",
    "    \"Lasso\" : Lasso(),\n",
    "    \"ElasticNet\" : ElasticNet(), \n",
    "    \"Linear\" : LinearRegression()\n",
    "}\n",
    "\n",
    "# Parameters\n",
    "param_grid = {\n",
    "    'Linear': {},\n",
    "    'Ridge': {'model__alpha': [0.1, 1.0, 10.0, 100.0]},\n",
    "    'Lasso': {'model__alpha': [0.1, 1.0, 10.0, 100.0]},\n",
    "    'ElasticNet': {'model__alpha': [0.1, 1.0, 10.0, 100.0], 'model__l1_ratio': [0.1, 0.5, 0.9]}\n",
    "}"
   ]
  },
  {
   "cell_type": "code",
   "execution_count": 162,
   "id": "6f2e3a0b-a821-4a26-a062-8750a4447353",
   "metadata": {},
   "outputs": [],
   "source": [
    "# To keep random suffle linear\n",
    "kcv = KFold(n_splits=5,shuffle=True,random_state=42)"
   ]
  },
  {
   "cell_type": "code",
   "execution_count": 166,
   "id": "be039368-edbb-43d5-96c1-d061e9b640d1",
   "metadata": {},
   "outputs": [
    {
     "name": "stdout",
     "output_type": "stream",
     "text": [
      "Fitting 5 folds for each of 4 candidates, totalling 20 fits\n",
      "\n",
      "Best parameters for Ridge: {'model__alpha': 1.0}\n",
      "Best R-squared score for Ridge: 0.6507193613343174\n",
      "Fitting 5 folds for each of 4 candidates, totalling 20 fits\n",
      "\n",
      "Best parameters for Lasso: {'model__alpha': 100.0}\n",
      "Best R-squared score for Lasso: 0.6490457863442664\n",
      "Fitting 5 folds for each of 12 candidates, totalling 60 fits\n",
      "\n",
      "Best parameters for ElasticNet: {'model__alpha': 0.1, 'model__l1_ratio': 0.9}\n",
      "Best R-squared score for ElasticNet: 0.6448338021767263\n",
      "Fitting 5 folds for each of 1 candidates, totalling 5 fits\n",
      "\n",
      "Best parameters for Linear: {}\n",
      "Best R-squared score for Linear: 0.6490343335414056\n"
     ]
    }
   ],
   "source": [
    "best_models = {}\n",
    "\n",
    "# Applying Grid Search CV\n",
    "for name,model in models.items():\n",
    "    \n",
    "    pipeline = Pipeline(steps=[(\"preprocessing\",preprocessing),(\"model\",model)])\n",
    "    \n",
    "    grid_search = GridSearchCV(estimator = pipeline,\n",
    "                               param_grid = param_grid[name],\n",
    "                               n_jobs = -1,\n",
    "                               scoring =\"r2\",\n",
    "                               cv = kcv, \n",
    "                               verbose= 1\n",
    "                              )\n",
    "    \n",
    "    grid_search.fit(X_train,y_train)\n",
    "    \n",
    "    best_models[name] = grid_search.best_estimator_\n",
    "    print()\n",
    "    print(f\"Best parameters for {name}: {grid_search.best_params_}\")\n",
    "    print(f\"Best R-squared score for {name}: {grid_search.best_score_}\")"
   ]
  },
  {
   "cell_type": "code",
   "execution_count": 168,
   "id": "6562429f-ff2d-4018-a6a7-45e9d4805a5f",
   "metadata": {
    "scrolled": true
   },
   "outputs": [
    {
     "name": "stdout",
     "output_type": "stream",
     "text": [
      "Ridge - Test set Mean Squared Error: 1757095094129.75\n",
      "Ridge - Test set R-squared: 0.6523749777945618\n",
      "Lasso - Test set Mean Squared Error: 1754825601813.1255\n",
      "Lasso - Test set R-squared: 0.6528239758707599\n",
      "ElasticNet - Test set Mean Squared Error: 1813535026046.8684\n",
      "ElasticNet - Test set R-squared: 0.6412088589820344\n",
      "Linear - Test set Mean Squared Error: 1754318687330.6692\n",
      "Linear - Test set R-squared: 0.6529242642153174\n"
     ]
    }
   ],
   "source": [
    "for model_name, model in best_models.items():\n",
    "    y_pred = model.predict(X_test)\n",
    "    mse = mean_squared_error(y_test, y_pred)\n",
    "    r2 = r2_score(y_test, y_pred)\n",
    "    print(f\"{model_name} - Test set Mean Squared Error: {mse}\")\n",
    "    print(f\"{model_name} - Test set R-squared: {r2}\")\n"
   ]
  },
  {
   "cell_type": "markdown",
   "id": "9a2b2274-c86a-4c8b-8559-23d556e19778",
   "metadata": {},
   "source": [
    "- Due to Small amount of data Our model is not able to Perform better."
   ]
  },
  {
   "cell_type": "code",
   "execution_count": null,
   "id": "91495274-bda2-4a64-a8f6-dd99b4b1032e",
   "metadata": {},
   "outputs": [],
   "source": []
  }
 ],
 "metadata": {
  "kernelspec": {
   "display_name": "Python 3 (ipykernel)",
   "language": "python",
   "name": "python3"
  },
  "language_info": {
   "codemirror_mode": {
    "name": "ipython",
    "version": 3
   },
   "file_extension": ".py",
   "mimetype": "text/x-python",
   "name": "python",
   "nbconvert_exporter": "python",
   "pygments_lexer": "ipython3",
   "version": "3.12.4"
  }
 },
 "nbformat": 4,
 "nbformat_minor": 5
}
