{
 "cells": [
  {
   "cell_type": "code",
   "execution_count": 86,
   "id": "2f407b94-38e3-4c60-866b-c8cf0ed071fd",
   "metadata": {},
   "outputs": [],
   "source": [
    "import pandas as pd\n",
    "import numpy as np\n",
    "import matplotlib.pyplot as plt\n",
    "import seaborn as sns\n",
    "import re\n",
    "import warnings\n",
    "warnings.filterwarnings(\"ignore\")"
   ]
  },
  {
   "cell_type": "code",
   "execution_count": 46,
   "id": "0c5f6bbc-0b90-418b-9077-e00f775f36af",
   "metadata": {},
   "outputs": [
    {
     "data": {
      "text/html": [
       "<div>\n",
       "<style scoped>\n",
       "    .dataframe tbody tr th:only-of-type {\n",
       "        vertical-align: middle;\n",
       "    }\n",
       "\n",
       "    .dataframe tbody tr th {\n",
       "        vertical-align: top;\n",
       "    }\n",
       "\n",
       "    .dataframe thead th {\n",
       "        text-align: right;\n",
       "    }\n",
       "</style>\n",
       "<table border=\"1\" class=\"dataframe\">\n",
       "  <thead>\n",
       "    <tr style=\"text-align: right;\">\n",
       "      <th></th>\n",
       "      <th>mpg</th>\n",
       "      <th>cylinders</th>\n",
       "      <th>displacement</th>\n",
       "      <th>horsepower</th>\n",
       "      <th>weight</th>\n",
       "      <th>acceleration</th>\n",
       "      <th>model_year</th>\n",
       "      <th>origin</th>\n",
       "      <th>car_name</th>\n",
       "    </tr>\n",
       "  </thead>\n",
       "  <tbody>\n",
       "    <tr>\n",
       "      <th>0</th>\n",
       "      <td>18.0</td>\n",
       "      <td>8</td>\n",
       "      <td>307.0</td>\n",
       "      <td>130.0</td>\n",
       "      <td>3504.0</td>\n",
       "      <td>12.0</td>\n",
       "      <td>70</td>\n",
       "      <td>1</td>\n",
       "      <td>\"chevrolet chevelle malibu\"</td>\n",
       "    </tr>\n",
       "    <tr>\n",
       "      <th>1</th>\n",
       "      <td>15.0</td>\n",
       "      <td>8</td>\n",
       "      <td>350.0</td>\n",
       "      <td>165.0</td>\n",
       "      <td>3693.0</td>\n",
       "      <td>11.5</td>\n",
       "      <td>70</td>\n",
       "      <td>1</td>\n",
       "      <td>\"buick skylark 320\"</td>\n",
       "    </tr>\n",
       "  </tbody>\n",
       "</table>\n",
       "</div>"
      ],
      "text/plain": [
       "    mpg  cylinders  displacement  horsepower  weight  acceleration  \\\n",
       "0  18.0          8         307.0       130.0  3504.0          12.0   \n",
       "1  15.0          8         350.0       165.0  3693.0          11.5   \n",
       "\n",
       "   model_year  origin                     car_name  \n",
       "0          70       1  \"chevrolet chevelle malibu\"  \n",
       "1          70       1          \"buick skylark 320\"  "
      ]
     },
     "execution_count": 46,
     "metadata": {},
     "output_type": "execute_result"
    }
   ],
   "source": [
    "# Initialize an empty list to hold the \n",
    "data = [] \n",
    "# Open and read the file \n",
    "with open(\"C:\\\\Datasets\\\\auto-mpg.data\", \"r\") as f: \n",
    "    for line in f.readlines(): \n",
    "        # Remove extra spaces and split by spaces or tab \n",
    "        cleaned_line = re.split(r'\\s{2,}|\\t', line.strip()) \n",
    "        data.append(cleaned_line) \n",
    "# Convert the list of lists to a DataFrame \n",
    "columns = ['mpg', 'cylinders', 'displacement', 'horsepower', 'weight',\n",
    "           'acceleration', 'model_year', 'origin', 'car_name'] \n",
    "df = pd.DataFrame(data, columns=columns) \n",
    "# Convert numeric columns to appropriate types \n",
    "df['mpg'] = df['mpg'].astype(float) \n",
    "df['cylinders'] = df['cylinders'].astype(int) \n",
    "df['displacement'] = df['displacement'].astype(float) \n",
    "df['horsepower'] = pd.to_numeric(df['horsepower'],errors=\"coerce\")\n",
    "df['weight'] = df['weight'].astype(float) \n",
    "df['acceleration'] = df['acceleration'].astype(float) \n",
    "df['model_year'] = df['model_year'].astype(int) \n",
    "df['origin'] = df['origin'].astype(int) \n",
    "# Display the first few rows of the DataFrame\n",
    "df.head(2)\n"
   ]
  },
  {
   "cell_type": "code",
   "execution_count": 60,
   "id": "009922bf-dba2-4782-b057-7f9f550cc0b0",
   "metadata": {},
   "outputs": [
    {
     "data": {
      "text/plain": [
       "array([130., 165., 150., 140., 198., 220., 215., 225., 190., 170., 160.,\n",
       "        95.,  97.,  85.,  88.,  46.,  87.,  90., 113., 200., 210., 193.,\n",
       "        nan, 100., 105., 175., 153., 180., 110.,  72.,  86.,  70.,  76.,\n",
       "        65.,  69.,  60.,  80.,  54., 208., 155., 112.,  92., 145., 137.,\n",
       "       158., 167.,  94., 107., 230.,  49.,  75.,  91., 122.,  67.,  83.,\n",
       "        78.,  52.,  61.,  93., 148., 129.,  96.,  71.,  98., 115.,  53.,\n",
       "        81.,  79., 120., 152., 102., 108.,  68.,  58., 149.,  89.,  63.,\n",
       "        48.,  66., 139., 103., 125., 133., 138., 135., 142.,  77.,  62.,\n",
       "       132.,  84.,  64.,  74., 116.,  82.])"
      ]
     },
     "execution_count": 60,
     "metadata": {},
     "output_type": "execute_result"
    }
   ],
   "source": [
    "df[\"horsepower\"].unique()"
   ]
  },
  {
   "cell_type": "code",
   "execution_count": 78,
   "id": "9f87e800-bc4f-4d2f-bc23-3fa3adec6908",
   "metadata": {},
   "outputs": [],
   "source": [
    "# There are only 6 missing values \n",
    "df = df.dropna(axis=0)"
   ]
  },
  {
   "cell_type": "code",
   "execution_count": 88,
   "id": "b5fc75a9-f962-425f-ad22-87b09bfac8f3",
   "metadata": {},
   "outputs": [
    {
     "data": {
      "text/plain": [
       "array(['chevrolet', 'buick', 'plymouth', 'amc', 'ford', 'pontiac',\n",
       "       'dodge', 'toyota', 'datsun', 'volkswagen', 'peugeot', 'audi',\n",
       "       'saab', 'bmw', 'chevy', 'hi', 'mercury', 'opel', 'fiat',\n",
       "       'oldsmobile', 'chrysler', 'mazda', 'volvo', 'renault', 'toyouta',\n",
       "       'maxda', 'honda', 'subaru', 'chevroelt', 'capri', 'vw',\n",
       "       'mercedes-benz', 'cadillac', 'mercedes', 'vokswagen', 'triumph',\n",
       "       'nissan'], dtype=object)"
      ]
     },
     "execution_count": 88,
     "metadata": {},
     "output_type": "execute_result"
    }
   ],
   "source": [
    "# Taking only Company name\n",
    "df[\"car_name\"] = df[\"car_name\"].apply(lambda x: x.split()[0].replace('\"',''))\n",
    "\n",
    "df[\"car_name\"].unique()"
   ]
  },
  {
   "cell_type": "code",
   "execution_count": 92,
   "id": "a6df0424-73fb-4dad-8875-9b56cf7173a4",
   "metadata": {
    "scrolled": true
   },
   "outputs": [
    {
     "data": {
      "text/plain": [
       "array(['chevrolet', 'buick', 'plymouth', 'amc', 'ford', 'pontiac',\n",
       "       'dodge', 'toyota', 'datsun', 'volkswagen', 'peugeot', 'audi',\n",
       "       'saab', 'bmw', 'mercedes_benz', 'mercury', 'opel', 'fiat',\n",
       "       'oldsmobile', 'chrysler', 'mazda', 'volvo', 'renault', 'Toyota',\n",
       "       'Mazda', 'honda', 'subaru', 'chevroelt', 'capri', 'mercedes-benz',\n",
       "       'cadillac', 'mercedes', 'triumph', 'nissan'], dtype=object)"
      ]
     },
     "execution_count": 92,
     "metadata": {},
     "output_type": "execute_result"
    }
   ],
   "source": [
    "car_name_corrections = {\n",
    "    'chevy': \"chevrolet\",\n",
    "    'hi': \"mercedes_benz\",\n",
    "    'toyouta': \"Toyota\",\n",
    "    'maxda': \"Mazda\",\n",
    "    'vw': \"volkswagen\",\n",
    "    'vokswagen': \"volkswagen\"\n",
    "}\n",
    "\n",
    "df[\"car_name\"] = df[\"car_name\"].apply(lambda x: car_name_corrections[x] if x in car_name_corrections else x)\n",
    "df[\"car_name\"].unique()"
   ]
  },
  {
   "cell_type": "code",
   "execution_count": 184,
   "id": "5bc35291-a44e-456b-8c29-583e3e8e55f2",
   "metadata": {
    "scrolled": true
   },
   "outputs": [
    {
     "data": {
      "text/html": [
       "<div>\n",
       "<style scoped>\n",
       "    .dataframe tbody tr th:only-of-type {\n",
       "        vertical-align: middle;\n",
       "    }\n",
       "\n",
       "    .dataframe tbody tr th {\n",
       "        vertical-align: top;\n",
       "    }\n",
       "\n",
       "    .dataframe thead th {\n",
       "        text-align: right;\n",
       "    }\n",
       "</style>\n",
       "<table border=\"1\" class=\"dataframe\">\n",
       "  <thead>\n",
       "    <tr style=\"text-align: right;\">\n",
       "      <th></th>\n",
       "      <th>mpg</th>\n",
       "      <th>cylinders</th>\n",
       "      <th>displacement</th>\n",
       "      <th>horsepower</th>\n",
       "      <th>weight</th>\n",
       "      <th>acceleration</th>\n",
       "      <th>model_year</th>\n",
       "      <th>origin</th>\n",
       "      <th>car_name</th>\n",
       "    </tr>\n",
       "  </thead>\n",
       "  <tbody>\n",
       "    <tr>\n",
       "      <th>203</th>\n",
       "      <td>29.5</td>\n",
       "      <td>4</td>\n",
       "      <td>97.0</td>\n",
       "      <td>71.0</td>\n",
       "      <td>1825.0</td>\n",
       "      <td>12.2</td>\n",
       "      <td>76</td>\n",
       "      <td>2</td>\n",
       "      <td>volkswagen</td>\n",
       "    </tr>\n",
       "    <tr>\n",
       "      <th>226</th>\n",
       "      <td>20.5</td>\n",
       "      <td>6</td>\n",
       "      <td>231.0</td>\n",
       "      <td>105.0</td>\n",
       "      <td>3425.0</td>\n",
       "      <td>16.9</td>\n",
       "      <td>77</td>\n",
       "      <td>1</td>\n",
       "      <td>buick</td>\n",
       "    </tr>\n",
       "    <tr>\n",
       "      <th>156</th>\n",
       "      <td>16.0</td>\n",
       "      <td>8</td>\n",
       "      <td>400.0</td>\n",
       "      <td>170.0</td>\n",
       "      <td>4668.0</td>\n",
       "      <td>11.5</td>\n",
       "      <td>75</td>\n",
       "      <td>1</td>\n",
       "      <td>pontiac</td>\n",
       "    </tr>\n",
       "    <tr>\n",
       "      <th>351</th>\n",
       "      <td>34.4</td>\n",
       "      <td>4</td>\n",
       "      <td>98.0</td>\n",
       "      <td>65.0</td>\n",
       "      <td>2045.0</td>\n",
       "      <td>16.2</td>\n",
       "      <td>81</td>\n",
       "      <td>1</td>\n",
       "      <td>ford</td>\n",
       "    </tr>\n",
       "  </tbody>\n",
       "</table>\n",
       "</div>"
      ],
      "text/plain": [
       "      mpg  cylinders  displacement  horsepower  weight  acceleration  \\\n",
       "203  29.5          4          97.0        71.0  1825.0          12.2   \n",
       "226  20.5          6         231.0       105.0  3425.0          16.9   \n",
       "156  16.0          8         400.0       170.0  4668.0          11.5   \n",
       "351  34.4          4          98.0        65.0  2045.0          16.2   \n",
       "\n",
       "     model_year  origin    car_name  \n",
       "203          76       2  volkswagen  \n",
       "226          77       1       buick  \n",
       "156          75       1     pontiac  \n",
       "351          81       1        ford  "
      ]
     },
     "execution_count": 184,
     "metadata": {},
     "output_type": "execute_result"
    }
   ],
   "source": [
    "# Create a mask for car names that appear less than 4 times\n",
    "mask = df['car_name'].map(df['car_name'].value_counts()) < 2\n",
    "\n",
    "# Replace those car names with \"others\"\n",
    "df.loc[mask, 'car_name'] = 'others'\n",
    "\n",
    "df.sample(4)\n"
   ]
  },
  {
   "cell_type": "code",
   "execution_count": 188,
   "id": "f9af26fc-d615-48b8-ab0d-451202f90a85",
   "metadata": {},
   "outputs": [
    {
     "data": {
      "text/plain": [
       "car_name\n",
       "ford             48\n",
       "chevrolet        46\n",
       "plymouth         31\n",
       "dodge            28\n",
       "amc              27\n",
       "toyota           25\n",
       "datsun           23\n",
       "volkswagen       22\n",
       "buick            17\n",
       "pontiac          16\n",
       "honda            13\n",
       "mercury          11\n",
       "mazda            10\n",
       "oldsmobile       10\n",
       "fiat              8\n",
       "peugeot           8\n",
       "others            7\n",
       "audi              7\n",
       "chrysler          6\n",
       "volvo             6\n",
       "opel              4\n",
       "saab              4\n",
       "subaru            4\n",
       "renault           3\n",
       "bmw               2\n",
       "Mazda             2\n",
       "mercedes-benz     2\n",
       "cadillac          2\n",
       "Name: count, dtype: int64"
      ]
     },
     "execution_count": 188,
     "metadata": {},
     "output_type": "execute_result"
    }
   ],
   "source": [
    "df[\"car_name\"].value_counts()"
   ]
  },
  {
   "cell_type": "code",
   "execution_count": 190,
   "id": "afc17c35-a988-4433-ae14-0204cf5a8f3a",
   "metadata": {},
   "outputs": [
    {
     "name": "stdout",
     "output_type": "stream",
     "text": [
      "<class 'pandas.core.frame.DataFrame'>\n",
      "Index: 392 entries, 0 to 397\n",
      "Data columns (total 9 columns):\n",
      " #   Column        Non-Null Count  Dtype  \n",
      "---  ------        --------------  -----  \n",
      " 0   mpg           392 non-null    float64\n",
      " 1   cylinders     392 non-null    int32  \n",
      " 2   displacement  392 non-null    float64\n",
      " 3   horsepower    392 non-null    float64\n",
      " 4   weight        392 non-null    float64\n",
      " 5   acceleration  392 non-null    float64\n",
      " 6   model_year    392 non-null    int32  \n",
      " 7   origin        392 non-null    int32  \n",
      " 8   car_name      392 non-null    object \n",
      "dtypes: float64(5), int32(3), object(1)\n",
      "memory usage: 26.0+ KB\n"
     ]
    }
   ],
   "source": [
    "df.info()"
   ]
  },
  {
   "cell_type": "code",
   "execution_count": 192,
   "id": "d8c93552-4194-4b85-a79c-79fd79c1a46b",
   "metadata": {},
   "outputs": [
    {
     "data": {
      "text/plain": [
       "((392, 8), (392,))"
      ]
     },
     "execution_count": 192,
     "metadata": {},
     "output_type": "execute_result"
    }
   ],
   "source": [
    "## Creating Train and test data\n",
    "X,y = df.drop(columns=\"mpg\"),df[\"mpg\"]\n",
    "X.shape, y.shape"
   ]
  },
  {
   "cell_type": "code",
   "execution_count": 118,
   "id": "f25b3327-b0d3-4b72-8449-ff76c722087c",
   "metadata": {},
   "outputs": [],
   "source": [
    "from sklearn.preprocessing import StandardScaler, OneHotEncoder\n",
    "from sklearn.model_selection import train_test_split, GridSearchCV, KFold\n",
    "from sklearn.ensemble import RandomForestRegressor, GradientBoostingRegressor\n",
    "from sklearn.linear_model import LinearRegression\n",
    "from sklearn.svm import SVR\n",
    "from sklearn.compose import ColumnTransformer\n",
    "from sklearn.pipeline import Pipeline"
   ]
  },
  {
   "cell_type": "code",
   "execution_count": 194,
   "id": "00d49f36-c5f2-4790-b6fc-fe8c1f3af1e6",
   "metadata": {},
   "outputs": [
    {
     "data": {
      "text/plain": [
       "((313, 8), (79, 8))"
      ]
     },
     "execution_count": 194,
     "metadata": {},
     "output_type": "execute_result"
    }
   ],
   "source": [
    "# Splitting Train and test data\n",
    "X_train,X_test,y_train,y_test = train_test_split(X,y, test_size=0.2, random_state=42,stratify=X[\"car_name\"])\n",
    "X_train.shape, X_test.shape"
   ]
  },
  {
   "cell_type": "code",
   "execution_count": 198,
   "id": "83d7244e-f88e-41f0-b7cd-0d077519eb74",
   "metadata": {},
   "outputs": [],
   "source": [
    "# Define columns\n",
    "numeric_columns = ['displacement', 'horsepower', 'weight', 'acceleration', 'model_year']\n",
    "categorical_col = X.select_dtypes(include=\"object\").columns  \n",
    "\n",
    "ohe = OneHotEncoder(drop=\"first\")\n",
    "stScaler = StandardScaler()\n",
    "\n",
    "# Create a column transformer\n",
    "preprocess = ColumnTransformer(\n",
    "    [\n",
    "        (\"Standard Scaler\", stScaler, numeric_columns),\n",
    "        (\"One Hot Encoder\", ohe, categorical_col)\n",
    "    ],\n",
    "    remainder=\"passthrough\"\n",
    ")\n"
   ]
  },
  {
   "cell_type": "code",
   "execution_count": 200,
   "id": "d3b6f167-5ca4-4593-bdd3-45434d01fc13",
   "metadata": {},
   "outputs": [],
   "source": [
    "# Define models\n",
    "models = {\n",
    "    \"LinearRegression\": LinearRegression(),\n",
    "    \"RandomForest\": RandomForestRegressor(),\n",
    "    \"GradientBoost\": GradientBoostingRegressor(),\n",
    "    \"SVR\": SVR()\n",
    "}\n",
    "\n",
    "# Define parameter grids\n",
    "param_grids = {\n",
    "    \"LinearRegression\": {\n",
    "        \"LinearRegression__fit_intercept\": [True, False]\n",
    "    },\n",
    "    \"RandomForest\": {\n",
    "        \"RandomForest__n_estimators\": [100, 150, 200, 250],\n",
    "        \"RandomForest__max_depth\": [None, 4, 6],\n",
    "        \"RandomForest__min_samples_split\": [2, 4, 5],\n",
    "        \"RandomForest__min_samples_leaf\": [2, 4]\n",
    "    },\n",
    "    \"GradientBoost\": {\n",
    "        \"GradientBoost__learning_rate\": [0.1, 0.2, 0.4],\n",
    "        \"GradientBoost__n_estimators\": [100, 50, 150],\n",
    "        \"GradientBoost__min_samples_split\": [2, 4, 6],\n",
    "        \"GradientBoost__min_samples_leaf\": [2, 4],\n",
    "        \"GradientBoost__max_depth\": [3, 4],\n",
    "        \"GradientBoost__alpha\": [0.9, 0.7, 0.5]\n",
    "    },\n",
    "    \"SVR\": {\n",
    "        'SVR__kernel': ['linear', 'poly', 'rbf'],\n",
    "        'SVR__C': [0.1, 1, 10, 100],\n",
    "        'SVR__gamma': ['scale', 'auto'],\n",
    "        'SVR__degree': [2, 3, 4]\n",
    "    }\n",
    "}"
   ]
  },
  {
   "cell_type": "code",
   "execution_count": 204,
   "id": "9743d30c-41c1-4be1-81b5-2daf344d8372",
   "metadata": {},
   "outputs": [
    {
     "name": "stdout",
     "output_type": "stream",
     "text": [
      "Fitting 3 folds for each of 2 candidates, totalling 6 fits\n",
      "====================\n",
      "LinearRegression: nan\n",
      "{'LinearRegression__fit_intercept': True}\n",
      "Fitting 3 folds for each of 72 candidates, totalling 216 fits\n",
      "====================\n",
      "RandomForest: nan\n",
      "{'RandomForest__max_depth': None, 'RandomForest__min_samples_leaf': 2, 'RandomForest__min_samples_split': 2, 'RandomForest__n_estimators': 100}\n",
      "Fitting 3 folds for each of 324 candidates, totalling 972 fits\n",
      "====================\n",
      "GradientBoost: nan\n",
      "{'GradientBoost__alpha': 0.9, 'GradientBoost__learning_rate': 0.1, 'GradientBoost__max_depth': 3, 'GradientBoost__min_samples_leaf': 2, 'GradientBoost__min_samples_split': 2, 'GradientBoost__n_estimators': 100}\n",
      "Fitting 3 folds for each of 72 candidates, totalling 216 fits\n",
      "====================\n",
      "SVR: nan\n",
      "{'SVR__C': 0.1, 'SVR__degree': 2, 'SVR__gamma': 'scale', 'SVR__kernel': 'linear'}\n"
     ]
    }
   ],
   "source": [
    "# this will contain best pipelines for each model\n",
    "best_pipelines = {}\n",
    "\n",
    "kf = KFold(n_splits=3) #3 split per epochs\n",
    "for name, model in models.items():\n",
    "    # create a pipeline\n",
    "    pipeline = Pipeline([(\"preprocess\",preprocess),(name,model)])\n",
    "\n",
    "    # creating GridSearchCV\n",
    "    gridcv = GridSearchCV(estimator=pipeline,\n",
    "                          param_grid=param_grids[name],\n",
    "                          cv=kf,verbose=2,\n",
    "                          n_jobs=-1,\n",
    "                          return_train_score=True,\n",
    "                          scoring=\"accuracy\"\n",
    "                         )\n",
    "    # Trainning best model\n",
    "    gridcv.fit(X_train,y_train)\n",
    "    #Saving best model\n",
    "    best_pipelines[name]=gridcv.best_estimator_\n",
    "\n",
    "    #Print Best value and best parameters\n",
    "    print(\"=\"*20)\n",
    "    print(f\"{name}: {gridcv.best_score_}\")\n",
    "    print(gridcv.best_params_)"
   ]
  },
  {
   "cell_type": "code",
   "execution_count": 205,
   "id": "9be6b9c3-dae9-4eb2-93b8-c6fbd2bd937e",
   "metadata": {},
   "outputs": [
    {
     "name": "stdout",
     "output_type": "stream",
     "text": [
      "====================\n",
      "LinearRegression: train accuracy: 0.8430806152458042, test accuracy: 0.8191147492652976\n",
      "====================\n",
      "RandomForest: train accuracy: 0.9707014278928051, test accuracy: 0.8557281533328229\n",
      "====================\n",
      "GradientBoost: train accuracy: 0.9686133414348465, test accuracy: 0.8523774265997387\n",
      "====================\n",
      "SVR: train accuracy: 0.7928004892348843, test accuracy: 0.8224632661794927\n"
     ]
    }
   ],
   "source": [
    "for name,model in best_pipelines.items():\n",
    "    train_score = model.score(X_train,y_train)\n",
    "    test_score = model.score(X_test,y_test)\n",
    "\n",
    "    print(\"=\"*20)\n",
    "    print(f\"{name}: train accuracy: {train_score}, test accuracy: {test_score}\")"
   ]
  },
  {
   "cell_type": "code",
   "execution_count": null,
   "id": "75e0c993-4e21-4f86-95c9-96897ae4f842",
   "metadata": {},
   "outputs": [],
   "source": []
  }
 ],
 "metadata": {
  "kernelspec": {
   "display_name": "Python 3 (ipykernel)",
   "language": "python",
   "name": "python3"
  },
  "language_info": {
   "codemirror_mode": {
    "name": "ipython",
    "version": 3
   },
   "file_extension": ".py",
   "mimetype": "text/x-python",
   "name": "python",
   "nbconvert_exporter": "python",
   "pygments_lexer": "ipython3",
   "version": "3.12.4"
  }
 },
 "nbformat": 4,
 "nbformat_minor": 5
}
